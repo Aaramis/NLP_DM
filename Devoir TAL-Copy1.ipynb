{
 "cells": [
  {
   "cell_type": "markdown",
   "id": "95c2ee67",
   "metadata": {},
   "source": [
    "# Evaluation TAL: Traitement Automatique du Langage\n",
    "\n",
    "__\n",
    "\n",
    "Dans ce travail nous avons pour but de démontrer notre capacité à créer une chaine de traitement des données textuelles sur l'analyse d'opinion et la classification de locuteur. Pour ce faire nous aurons deux jeux de données :\n",
    "- Revues de film\n",
    "- Chirac/Mitterand"
   ]
  },
  {
   "cell_type": "markdown",
   "id": "be379e30",
   "metadata": {},
   "source": [
    "> ## Classification de documents : prise en main des outils\n",
    "Le but de ce TP est de classer des documents textuels... Dans un premier temps, nous allons vérifier le bon fonctionnement des outils sur des données jouets puis appliquer les concepts sur des données réelles.\n",
    "\n",
    "> ###      Conception de la chaine de traitement\n",
    "Pour rappel, une chaine de traitement de documents classique est composée des étapes suivantes:\n",
    "> 1. Lecture des données et importation\n",
    "    - Dans le cadre de nos TP, nous faisons l'hypothèse que le corpus tient en mémoire... Si ce n'est pas le cas, il faut alors ajouter des structures de données avec des buffers (*data-reader*), bien plus complexes à mettre en place.\n",
    "    - Le plus grand piège concerne l'encodage des données. Dans le TP... Pas (ou peu) de problème. Dans la vraie vie: il faut faire attention à toujours maitriser les formats d'entrée et de sortie.\n",
    "> 2. Traitement des données brutes paramétrique. Chaque traitement doit être activable ou desactivable + paramétrable si besoin.\n",
    "    - Enlever les informations *inutiles* : chiffre, ponctuations, majuscules, etc... (**L'utilité dépend de l'application!**)\n",
    "    - Segmenter en mots (=*Tokenization*)\n",
    "    - Elimination des stop-words\n",
    "    - Stemming/lemmatisation (racinisation)\n",
    "    - Byte-pair encoding pour trouver les mots composés (e.g. Sorbonne Université, Ville de Paris, Premier Ministre, etc...)\n",
    "> 3. Traitement des données numériques\n",
    "    - Normalisation *term-frequency* / binarisation\n",
    "    - Normalisation *inverse document frequency*\n",
    "    - Elimination des mots rares, des mots trop fréquents\n",
    "    - Construction de critère de séparabilité pour éliminer des mots etc...\n",
    "> 4. Apprentissage d'un classifieur\n",
    "    - Choix du type de classifieur\n",
    "    - Réglage des paramètres du classifieur (régularisation, etc...)\n",
    "\n",
    "> ### Exploitation de la chaine de traitement\n",
    "On appelle cette étape la réalisation d'une campagne d'expériences: c'est le point clé que nous voulons traviller en TAL cette année.\n",
    "> 1. Il est impossible de tester toutes les combinaisons par rapport aux propositions ci-dessus... Il faut donc en éliminer un certain nombre.\n",
    "    - En discutant avec les experts métiers\n",
    "    - En faisant des tests préliminaires\n",
    "> 2. Après ce premier filtrage, il faut:\n",
    "    - Choisir une évaluation fiable et pas trop lente (validation croisée, leave-one-out, split apprentissage/test simple)\n",
    "    - Lancer des expériences en grand\n",
    "        - = *grid-search*\n",
    "        - parallèliser sur plusieurs machines\n",
    "        - savoir lancer sur un serveur et se déconnecter\n",
    "> 3. Collecter et analyser les résultats\n",
    "\n",
    "\n",
    ">### Inférence\n",
    "L'inférence est ensuite très classique: la chaine de traitement optimale est apte à traiter de nouveaux documents"
   ]
  },
  {
   "cell_type": "code",
   "execution_count": 38,
   "id": "d3f50a4c",
   "metadata": {},
   "outputs": [],
   "source": [
    "import numpy as np\n",
    "import matplotlib.pyplot as plt #%matplotlib inline\n",
    "import random as rnd\n",
    "\n",
    "import codecs\n",
    "import re\n",
    "import os.path"
   ]
  },
  {
   "cell_type": "markdown",
   "id": "b86a43e5",
   "metadata": {},
   "source": [
    "## 1. Analyse d'opinion sur des revues de film"
   ]
  },
  {
   "cell_type": "markdown",
   "id": "98e0efe3",
   "metadata": {},
   "source": [
    "**Analyses obligatoires**\n",
    "- Comparer les performances avec différents pré-traitements\n",
    "    - e.g Taille de vocabulaire, unigram/bigram, Stemming, ...\n",
    "- Appliquer les traitements optimaux sur les données de test et sauver les résultats dans un fichier txt\n",
    "\n",
    "**Compléments optionnels**\n",
    "- Analyser les performances avec Word2Vec, en utilisant des stratégies d'agrégation naïves\n"
   ]
  },
  {
   "cell_type": "markdown",
   "id": "424a41cf",
   "metadata": {},
   "source": [
    "### a) Load Data "
   ]
  },
  {
   "cell_type": "markdown",
   "id": "4c61a2e2",
   "metadata": {},
   "source": [
    "#### i) Load Movies and labs"
   ]
  },
  {
   "cell_type": "code",
   "execution_count": 39,
   "id": "092509a0",
   "metadata": {},
   "outputs": [],
   "source": [
    "def load_movies(path2data): # 1 classe par répertoire\n",
    "    alltxts = [] # init vide\n",
    "    labs = []\n",
    "    cpt = 0\n",
    "    for cl in os.listdir(path2data): # parcours des fichiers d'un répertoire\n",
    "        for f in os.listdir(path2data+cl):\n",
    "            txt = open(path2data+cl+'/'+f).read()\n",
    "            alltxts.append(txt)\n",
    "            labs.append(cpt)\n",
    "        cpt+=1 # chg répertoire = cht classe\n",
    "        \n",
    "    return alltxts,labs"
   ]
  },
  {
   "cell_type": "code",
   "execution_count": 40,
   "id": "dedd63d3",
   "metadata": {},
   "outputs": [],
   "source": [
    "path = \"movies/movies1000/\"\n",
    "\n",
    "alltxts,alllabs = load_movies(path)"
   ]
  },
  {
   "cell_type": "code",
   "execution_count": 41,
   "id": "fbad9d9a",
   "metadata": {},
   "outputs": [
    {
     "name": "stdout",
     "output_type": "stream",
     "text": [
      "2000 2000\n",
      "plot : two teen couples go to a church party , drink and then drive . \n",
      "they get into an accident . \n",
      "one of the guys dies , but his girlfriend continues to see him in her life , and has nightmares . \n",
      "what's the deal ? \n",
      "watch the movie and \" sorta \" find out . . . \n",
      "critique : a mind-fuck movie for the teen generation that touches on a very cool idea , but presents it in a very bad package . \n",
      "which is what makes this review an even harder one to write , since i generally applaud films which attempt to break the mold , mess with your head and such ( lost highway & memento ) , but there are good and bad ways of making all types of films , and these folks just didn't snag this one correctly . \n",
      "they seem to have taken this pretty neat concept , but executed it terribly . \n",
      "so what are the problems with the movie ? \n",
      "well , its main problem is that it's simply too jumbled . \n",
      "it starts off \" normal \" but then downshifts into this \" fantasy \" world in which you , as an audience member , have no idea what's going on . \n",
      "there are dreams , there are characters coming back from the dead , there are others who look like the dead , there are strange apparitions , there are disappearances , there are a looooot of chase scenes , there are tons of weird things that happen , and most of it is simply not explained . \n",
      "now i personally don't mind trying to unravel a film every now and then , but when all it does is give me the same clue over and over again , i get kind of fed up after a while , which is this film's biggest problem . \n",
      "it's obviously got this big secret to hide , but it seems to want to hide it completely until its final five minutes . \n",
      "and do they make things entertaining , thrilling or even engaging , in the meantime ? \n",
      "not really . \n",
      "the sad part is that the arrow and i both dig on flicks like this , so we actually figured most of it out by the half-way point , so all of the strangeness after that did start to make a little bit of sense , but it still didn't the make the film all that more entertaining . \n",
      "i guess the bottom line with movies like this is that you should always make sure that the audience is \" into it \" even before they are given the secret password to enter your world of understanding . \n",
      "i mean , showing melissa sagemiller running away from visions for about 20 minutes throughout the movie is just plain lazy ! ! \n",
      "okay , we get it . . . there \n",
      "are people chasing her and we don't know who they are . \n",
      "do we really need to see it over and over again ? \n",
      "how about giving us different scenes offering further insight into all of the strangeness going down in the movie ? \n",
      "apparently , the studio took this film away from its director and chopped it up themselves , and it shows . \n",
      "there might've been a pretty decent teen mind-fuck movie in here somewhere , but i guess \" the suits \" decided that turning it into a music video with little edge , would make more sense . \n",
      "the actors are pretty good for the most part , although wes bentley just seemed to be playing the exact same character that he did in american beauty , only in a new neighborhood . \n",
      "but my biggest kudos go out to sagemiller , who holds her own throughout the entire film , and actually has you feeling her character's unraveling . \n",
      "overall , the film doesn't stick because it doesn't entertain , it's confusing , it rarely excites and it feels pretty redundant for most of its runtime , despite a pretty cool ending and explanation to all of the craziness that came before it . \n",
      "oh , and by the way , this is not a horror or teen slasher flick . . . it's \n",
      "just packaged to look that way because someone is apparently assuming that the genre is still hot with the kids . \n",
      "it also wrapped production two years ago and has been sitting on the shelves ever since . \n",
      "whatever . . . skip \n",
      "it ! \n",
      "where's joblo coming from ? \n",
      "a nightmare of elm street 3 ( 7/10 ) - blair witch 2 ( 7/10 ) - the crow ( 9/10 ) - the crow : salvation ( 4/10 ) - lost highway ( 10/10 ) - memento ( 10/10 ) - the others ( 9/10 ) - stir of echoes ( 8/10 ) \n",
      "\n",
      "0\n",
      "truman ( \" true-man \" ) burbank is the perfect name for jim carrey's character in this film . \n",
      "president truman was an unassuming man who became known worldwide , in spite of ( or was it because of ) his stature . \n",
      " \" truman \" also recalls an era of plenty following a grim war , an era when planned communities built by government scientists promised an idyllic life for americans . \n",
      "and burbank , california , brings to mind the tonight show and the home of nbc . \n",
      "if hollywood is the center of the film world , burbank is , or was , the center of tv's world , the world where our protagonist lives . \n",
      "combine all these names and concepts into \" truman burbank , \" and you get something that well describes him and his artificial world . \n",
      "truman leads the perfect life . \n",
      "his town , his car , and his wife are picture perfect . \n",
      "his idea of reality comes under attack one day when a studio light falls from the sky . \n",
      "the radio explains that an overflying airplane started coming apart . \n",
      " . \n",
      " . \n",
      "but then why would an airplane be carrying a studio light ? \n",
      "the next day during the drive to work , the radio jams and he starts picking up a voice that exactly describes his movements . \n",
      "he is so distracted that he nearly hits a pedestrian . \n",
      "when the radio comes back to normal , the announcer warns listeners to drive carefully . \n",
      "his suspicion aroused , he wanders around the town square looking for other oddities . \n",
      "the world appears to be functioning properly until he enters an office building and tries to take the elevator . \n",
      "the elevator doors open up on a small lounge with people on coffee breaks . \n",
      "a grip sees truman him and quickly moves a paneled door , made to look like the back of an elevator , into place . \n",
      "two security guards grab him and throw him out . \n",
      "truman is really suspicious now . \n",
      "it gets even worse the next day when his wife , a nurse , describes an elevator accident in the building where he saw the lounge . \n",
      " \" it's best not to think about it , \" she says , trying vainly to change truman's memory . \n",
      "truman becomes determined to see who or what is behind this apparently elaborate hoax at his expense . \n",
      "at every turn he is stopped by an amazing coincidence that just happens to keep him in his own little town . \n",
      "his last hope is to quell his fear of the ocean and sail to the edge of the world . \n",
      "you know by now that truman's life is the subject of a television program . \n",
      "his actions are \" real \" but everything else is carefully scripted , from the death of his father to the choice of his wife . \n",
      "truman is determined to find out what the big hoax is . \n",
      "meanwhile , christof , the all-seeing creator of truman's world does his best to keep him unaware and happy . \n",
      "it's sort of like westworld told from the robots' point of view , or jurassic park from the dinosaurs' point of view . \n",
      "we root for the captive of the cage-world . \n",
      "our protagonist is counting on \" chaos theory \" to help him escape his elaborate trap . \n",
      "the story , written by andrew niccol ( writer/director of gattaca ) , introduces some interesting questions , such as the ethics of subjecting a person to this type of life , or the psychological impact of learning that your entire life has all been fake . \n",
      "although these questions came to mind , i don't think the film itself asked them . \n",
      "it certainly didn't address them or try to answer them . \n",
      "i was particularly disappointed that the film didn't deal more with the trauma of learning one's life is a tv show . \n",
      "carrey's performance at the end showed a smidgen of truman's pain , but i almost felt that he got over it too easily for the sake of the film's pacing . \n",
      "earlier in the movie i found myself wondering if it would be better for truman to find out the truth or whether i should root for him to be well . \n",
      "the two seemed exclusive of one another , but weir and niccol didn't see it that way . \n",
      "perhaps it's not fair to criticize a movie for what it isn't , but it seems like there were some missed opportunities here . \n",
      "but on its own terms , the movie is well made . \n",
      "sight , sound and pacing are all handled competently . \n",
      "much of the first part of the movie is the truman show . \n",
      "the scenes are all apparently shot from hidden cameras , with snoots and obstructions covering the corners of the screen . \n",
      "one hidden camera is apparently in his car radio , the green led numbers obscuring the lower part of the screen . \n",
      "the music is well-chosen and scored . \n",
      "the film opens with what sounds like family drama theme music , when truman's world is still beautiful and perfect . \n",
      "when the movie ends , the score sounds more like a frantic , driven , tangerine dream opus , while still keeping the same timbre . \n",
      "philip glass' epic music ( from powaqqatsi ) permeates truman's scenes of suspicion and awakening . \n",
      " ( glass has a small cameo as a keyboardist for the show . ) \n",
      "and the pacing of the story was brisk . \n",
      "there was no unnecessarily long setup explaining the concept behind the truman show , just a few quick title cards , a few interviews , and then right into the show , and the movie . \n",
      "one of the first scenes is of the studio light falling ; there was no token scene of truman's idyllic life before it falls apart , because it wasn't necessary , we pick up the story at the first sign of trouble , and no sooner . \n",
      "there's also no point in the movie where the plot slows down . \n",
      "it's a quick , straight shot to the movie's end . \n",
      "in terms of overall quality , i would compare the truman show to niccol's gattaca . \n",
      "both films are well made with interesting stories set in interesting worlds . \n",
      "but neither film really felt like it capitalized on all the great ideas ; neither film \" clicked \" and became an instant classic . \n",
      "nevertheless , i look forward to niccol's next film , whatever it may be . \n",
      "\n",
      "1\n"
     ]
    }
   ],
   "source": [
    "print(len(alltxts),len(alllabs))\n",
    "print(alltxts[0])\n",
    "print(alllabs[0])\n",
    "print(alltxts[-1])\n",
    "print(alllabs[-1])"
   ]
  },
  {
   "cell_type": "markdown",
   "id": "664acbef",
   "metadata": {},
   "source": [
    "#### ii) Split data into train and test"
   ]
  },
  {
   "cell_type": "code",
   "execution_count": 42,
   "id": "274c4bca",
   "metadata": {},
   "outputs": [],
   "source": [
    "size_test = round(0.80*len(alltxts))\n",
    "index_train_txts = rnd.sample(range(len(alltxts)), size_test)\n",
    "\n",
    "train_txts = [alltxts[txt] for txt in index_train_txts]\n",
    "train_labs = [alllabs[txt] for txt in index_train_txts]\n",
    "\n",
    "test_texts = [alltxts[txt] for txt in range(len(alltxts)) if txt not in index_train_txts]\n",
    "test_labs = [alllabs[txt] for txt in range(len(alllabs)) if txt not in index_train_txts]\n",
    "\n",
    "#print(len(alltxts), len(test_texts), len(train_txts))"
   ]
  },
  {
   "cell_type": "markdown",
   "id": "9a116784",
   "metadata": {},
   "source": [
    "### b) Preprocessing\n",
    "\n",
    "> #### Transformation paramétrique du texte\n",
    "Vous devez tester, par exemple, les cas suivants:\n",
    "> - transformation en minuscule ou pas\n",
    "> - suppression de la ponctuation\n",
    "> - transformation des mots entièrement en majuscule en marqueurs spécifiques\n",
    "> - suppression des chiffres ou pas\n",
    "> - conservation d'une partie du texte seulement (seulement la première ligne = titre, seulement la dernière ligne = résumé, ...)\n",
    "> - stemming\n",
    "> - ...\n",
    "\n",
    "> Vérifier systématiquement sur un exemple ou deux le bon fonctionnement des méthodes sur deux documents (au moins un de chaque classe)."
   ]
  },
  {
   "cell_type": "code",
   "execution_count": 43,
   "id": "f9f126de",
   "metadata": {},
   "outputs": [],
   "source": [
    "from sklearn.feature_extraction.text import CountVectorizer"
   ]
  },
  {
   "cell_type": "markdown",
   "id": "4940501c",
   "metadata": {},
   "source": [
    "Dans un premier temps, les documents sont utilisés **sans prétraitement**. Puis nous ajoutons **différents prétraitements** afin de les comparer. Enfin, nous essaierons, si cela semble pertinent, de **combiner les prétraitements** pour optimiser les performances."
   ]
  },
  {
   "cell_type": "code",
   "execution_count": 44,
   "id": "7195e762",
   "metadata": {},
   "outputs": [],
   "source": [
    "#help(CountVectorizer)"
   ]
  },
  {
   "cell_type": "markdown",
   "id": "4b719ea3",
   "metadata": {},
   "source": [
    "#### i) Sans pretraitement"
   ]
  },
  {
   "cell_type": "code",
   "execution_count": 45,
   "id": "966b1e4a",
   "metadata": {},
   "outputs": [
    {
     "name": "stdout",
     "output_type": "stream",
     "text": [
      "Sans pré-traitement : \n",
      " 36377 ['abby', 'abc', 'abdomen', 'abducted', 'abductees', 'abduction', 'abdul', 'abe', 'abel', 'aberdeen', 'aberration', 'abetted', 'abetting', 'abhorrence', 'abhorrent', 'abider', 'abiding', 'abigail', 'abiility', 'abilities', 'ability', 'abject', 'ablaze', 'able', 'ably', 'abnormal', 'abnormally', 'abo', 'aboard', 'abode', 'abolish', 'abolitionist', 'abolitionists', 'abominable', 'abomination', 'aborbed', 'aborginal', 'aboriginal', 'aboriginals', 'aborigine', 'abort', 'abortion', 'abortionist', 'abortions', 'abortive', 'aboslutely', 'abound', 'abounded', 'abounding', 'abounds', 'about', 'abouts', 'above', 'abraded', 'abraham', 'abrahams', 'abrams', 'abrasive', 'abreast', 'abril', 'abroad', 'abrupt', 'abruptly', 'abs', 'absconded', 'absence', 'absences', 'absense', 'absent', 'absentee', 'absinthe', 'absolute', 'absolutely', 'absolutes', 'absolution', 'absolutist', 'absolved', 'absorb', 'absorbed', 'absorbing', 'absorbs', 'absorption', 'abstinence', 'abstract', 'absurd', 'absurdism', 'absurdist', 'absurdities', 'absurdity', 'absurdly', 'abu', 'abundance', 'abundant', 'abundantly', 'abundence', 'abuse', 'abused', 'abusers', 'abusing', 'abusive']\n"
     ]
    },
    {
     "name": "stderr",
     "output_type": "stream",
     "text": [
      "C:\\Anaconda\\lib\\site-packages\\sklearn\\utils\\deprecation.py:87: FutureWarning: Function get_feature_names is deprecated; get_feature_names is deprecated in 1.0 and will be removed in 1.2. Please use get_feature_names_out instead.\n",
      "  warnings.warn(msg, category=FutureWarning)\n"
     ]
    }
   ],
   "source": [
    "train_txts#Sans pré-traitement\n",
    "vec_no_PP = CountVectorizer(lowercase=False)\n",
    "X_no_PP = vec_no_PP.fit_transform(train_txts)\n",
    "print('Sans pré-traitement : \\n', len(vec_no_PP.get_feature_names()), vec_no_PP.get_feature_names()[600:700]) # we only print a few"
   ]
  },
  {
   "cell_type": "markdown",
   "id": "c721c2e5",
   "metadata": {},
   "source": [
    "#### ii) Sans ponctuation"
   ]
  },
  {
   "cell_type": "code",
   "execution_count": 46,
   "id": "fd23ed99",
   "metadata": {},
   "outputs": [],
   "source": [
    "def preprocess_p(text):\n",
    "    \"\"\"\n",
    "    Transforms text to remove unwanted bits.\n",
    "    \"\"\"\n",
    "    ponctuation = [\"!\", \":\", \",\", \".\", \"?\", \"+\", \"-\", \"&\", \"*\", \"%\", \"(\",\")\", \"_\"]\n",
    "    for p in ponctuation:\n",
    "        text = text.replace(p,\" \")\n",
    "    return text # This function is only taking care of dots, what about !:,?+-&*%"
   ]
  },
  {
   "cell_type": "code",
   "execution_count": 47,
   "id": "8f2fe322",
   "metadata": {},
   "outputs": [
    {
     "name": "stdout",
     "output_type": "stream",
     "text": [
      "\n",
      " \n",
      "Texte sans ponctuation: \n",
      " 36154 ['accurately', 'accursed', 'accusation', 'accusations', 'accuse', 'accused', 'accuser', 'accuses', 'accusing', 'accustomed', 'ace', 'acerbic', 'acerbity', 'aces', 'ache', 'acheives', 'aches', 'achievable', 'achieve', 'achieved', 'achieveing', 'achievement', 'achievements', 'achiever', 'achieves', 'achieving', 'achilles', 'achin', 'achingly', 'achoo', 'acid', 'acidic', 'ack', 'ackland', 'acknowledge', 'acknowledged', 'acknowledges', 'acknowledging', 'acknowledgment', 'acme', 'acne', 'acore', 'acquaintance', 'acquaintances', 'acquiescence', 'acquire', 'acquired', 'acquires', 'acquisition', 'acquit', 'acquits', 'acquittal', 'acquitted', 'acre', 'acres', 'acrimonious', 'acrimony', 'acrobat', 'acrobatic', 'acrobatics', 'acrobats', 'acronym', 'across', 'acrylic', 'act', 'acted', 'acting', 'action', 'actioner', 'actioners', 'actionfest', 'actionless', 'actions', 'activated', 'active', 'actively', 'activist', 'activists', 'activites', 'activities', 'activity', 'actor', 'actors', 'actosta', 'actress', 'actresses', 'acts', 'actual', 'actualisation', 'actuality', 'actualization', 'actualizing', 'actually', 'acuity', 'acumen', 'acupuncture', 'acute', 'acutely', 'ad', 'ad2am']\n"
     ]
    }
   ],
   "source": [
    "#Clean text ponctuation\n",
    "vec_Clean = CountVectorizer(preprocessor=preprocess_p)\n",
    "X_Clean = vec_Clean.fit_transform(train_txts)\n",
    "print('\\n \\nTexte sans ponctuation: \\n', len(vec_Clean.get_feature_names()), vec_Clean.get_feature_names()[600:700]) # we only print a few"
   ]
  },
  {
   "cell_type": "markdown",
   "id": "a55a3705",
   "metadata": {},
   "source": [
    "#### iii) Sans majuscules"
   ]
  },
  {
   "cell_type": "code",
   "execution_count": 48,
   "id": "f74dd99b",
   "metadata": {},
   "outputs": [
    {
     "name": "stdout",
     "output_type": "stream",
     "text": [
      "\n",
      " \n",
      "Texte sans majuscules: \n",
      " 36377 ['abby', 'abc', 'abdomen', 'abducted', 'abductees', 'abduction', 'abdul', 'abe', 'abel', 'aberdeen', 'aberration', 'abetted', 'abetting', 'abhorrence', 'abhorrent', 'abider', 'abiding', 'abigail', 'abiility', 'abilities', 'ability', 'abject', 'ablaze', 'able', 'ably', 'abnormal', 'abnormally', 'abo', 'aboard', 'abode', 'abolish', 'abolitionist', 'abolitionists', 'abominable', 'abomination', 'aborbed', 'aborginal', 'aboriginal', 'aboriginals', 'aborigine', 'abort', 'abortion', 'abortionist', 'abortions', 'abortive', 'aboslutely', 'abound', 'abounded', 'abounding', 'abounds', 'about', 'abouts', 'above', 'abraded', 'abraham', 'abrahams', 'abrams', 'abrasive', 'abreast', 'abril', 'abroad', 'abrupt', 'abruptly', 'abs', 'absconded', 'absence', 'absences', 'absense', 'absent', 'absentee', 'absinthe', 'absolute', 'absolutely', 'absolutes', 'absolution', 'absolutist', 'absolved', 'absorb', 'absorbed', 'absorbing', 'absorbs', 'absorption', 'abstinence', 'abstract', 'absurd', 'absurdism', 'absurdist', 'absurdities', 'absurdity', 'absurdly', 'abu', 'abundance', 'abundant', 'abundantly', 'abundence', 'abuse', 'abused', 'abusers', 'abusing', 'abusive']\n"
     ]
    }
   ],
   "source": [
    "#Clean Text min/Maj\n",
    "vec_mM = CountVectorizer(lowercase=True)\n",
    "X_mM = vec_mM.fit_transform(train_txts)\n",
    "print('\\n \\nTexte sans majuscules: \\n', len(vec_mM.get_feature_names()), vec_mM.get_feature_names()[600:700]) # we only print a few"
   ]
  },
  {
   "cell_type": "markdown",
   "id": "af8d306a",
   "metadata": {},
   "source": [
    "#### iv) Sans stop words"
   ]
  },
  {
   "cell_type": "code",
   "execution_count": 49,
   "id": "e73667bb",
   "metadata": {},
   "outputs": [
    {
     "name": "stdout",
     "output_type": "stream",
     "text": [
      "[(',', 77717), ('the', 68368), ('.', 65876), ('a', 37123), ('and', 33726), ('of', 33698), ('to', 31471), ('is', 25017), ('in', 20012), ('\"', 17612), ('that', 14768), (')', 11781), ('(', 11664), ('it', 10546), ('as', 10422), ('with', 10407), ('for', 9427), ('his', 9008), ('film', 8843), ('this', 7965)]\n"
     ]
    }
   ],
   "source": [
    "# Let's plot the count of the 1000 most used words:\n",
    "\n",
    "from collections import Counter\n",
    "\n",
    "wc = Counter()\n",
    "for text in alltxts:\n",
    "    wc.update(text.split(\" \"))\n",
    "    \n",
    "freq = [f for w,f in wc.most_common(1000)]\n",
    "stop_words = [w for w,f in wc.most_common(1000)]\n",
    "\n",
    "print(wc.most_common(20))"
   ]
  },
  {
   "cell_type": "code",
   "execution_count": 50,
   "id": "b7bf495a",
   "metadata": {},
   "outputs": [
    {
     "name": "stdout",
     "output_type": "stream",
     "text": [
      "\n",
      " \n",
      "Sans stop words : \n",
      " 36376 ['abby', 'abc', 'abdomen', 'abducted', 'abductees', 'abduction', 'abdul', 'abe', 'abel', 'aberdeen', 'aberration', 'abetted', 'abetting', 'abhorrence', 'abhorrent', 'abider', 'abiding', 'abigail', 'abiility', 'abilities', 'ability', 'abject', 'ablaze', 'able', 'ably', 'abnormal', 'abnormally', 'abo', 'aboard', 'abode', 'abolish', 'abolitionist', 'abolitionists', 'abominable', 'abomination', 'aborbed', 'aborginal', 'aboriginal', 'aboriginals', 'aborigine', 'abort', 'abortion', 'abortionist', 'abortions', 'abortive', 'aboslutely', 'abound', 'abounded', 'abounding', 'abounds', 'about', 'abouts', 'above', 'abraded', 'abraham', 'abrahams', 'abrams', 'abrasive', 'abreast', 'abril', 'abroad', 'abrupt', 'abruptly', 'abs', 'absconded', 'absence', 'absences', 'absense', 'absent', 'absentee', 'absinthe', 'absolute', 'absolutely', 'absolutes', 'absolution', 'absolutist', 'absolved', 'absorb', 'absorbed', 'absorbing', 'absorbs', 'absorption', 'abstinence', 'abstract', 'absurd', 'absurdism', 'absurdist', 'absurdities', 'absurdity', 'absurdly', 'abu', 'abundance', 'abundant', 'abundantly', 'abundence', 'abuse', 'abused', 'abusers', 'abusing', 'abusive']\n"
     ]
    }
   ],
   "source": [
    "#Remove stop words #####A VOIR CE QUI EST INTERESSANT\n",
    "\"\"\"vec_noSW = CountVectorizer(stop_words=stop_words)\n",
    "X_noSW = vec_noSW.fit_transform(train_txts)\n",
    "print('\\n \\nSans stop words : \\n', len(vec_noSW.get_feature_names()), vec_noSW.get_feature_names()[600:700]) # we only print a few\n",
    "\"\"\"\n",
    "vec_noSW = CountVectorizer(stop_words={'english'})\n",
    "X_noSW = vec_noSW.fit_transform(train_txts)\n",
    "print('\\n \\nSans stop words : \\n', len(vec_noSW.get_feature_names()), vec_noSW.get_feature_names()[600:700]) # we only print a few"
   ]
  },
  {
   "cell_type": "markdown",
   "id": "e81fc343",
   "metadata": {},
   "source": [
    "#### v) Sans chiffres"
   ]
  },
  {
   "cell_type": "code",
   "execution_count": 51,
   "id": "49c23d8f",
   "metadata": {},
   "outputs": [],
   "source": [
    "def preprocess_c(text):\n",
    "    \"\"\"\n",
    "    Transforms text to remove unwanted bits.\n",
    "    \"\"\"\n",
    "    chiffres = [\"0\", \"1\", \"2\", \"3\", \"4\", \"5\", \"6\", \"7\", \"8\", \"9\"]\n",
    "    for c in chiffres:\n",
    "        text = text.replace(c,\" \")\n",
    "    return text # This function is only taking care of dots, what about !:,?+-&*%"
   ]
  },
  {
   "cell_type": "code",
   "execution_count": 52,
   "id": "7b766f8b",
   "metadata": {},
   "outputs": [
    {
     "name": "stdout",
     "output_type": "stream",
     "text": [
      "\n",
      " \n",
      "Texte sans chiffres: \n",
      " 35948 ['adrift', 'adroit', 'adroitly', 'ads', 'adulation', 'adult', 'adulterous', 'adultery', 'adulthood', 'adultrous', 'adults', 'advance', 'advanced', 'advancement', 'advancements', 'advances', 'advancing', 'advantage', 'advantaged', 'advantages', 'advent', 'adventure', 'adventurer', 'adventures', 'adventurous', 'adversarial', 'adversary', 'adverse', 'adversely', 'adversity', 'advertise', 'advertised', 'advertisement', 'advertisements', 'advertiser', 'advertising', 'advertisment', 'advice', 'advil', 'advisable', 'advise', 'advised', 'adviser', 'advisers', 'advises', 'advising', 'advisor', 'advisors', 'advocate', 'advocates', 'advocating', 'aerial', 'aerosmith', 'aerospace', 'aesthetic', 'aesthetically', 'aesthetics', 'afa', 'afar', 'afeminite', 'afer', 'affability', 'affable', 'affair', 'affairs', 'affay', 'affect', 'affectation', 'affectations', 'affected', 'affecting', 'affection', 'affectionate', 'affectionately', 'affections', 'affects', 'afficianados', 'affiliate', 'affiliated', 'affiliations', 'affinity', 'affirm', 'affirmation', 'affirmations', 'affirmative', 'affirming', 'affirms', 'affleck', 'afflicted', 'affliction', 'affluent', 'afford', 'affordable', 'afforded', 'affords', 'affraid', 'affront', 'afi', 'aficionado', 'aficionados']\n"
     ]
    }
   ],
   "source": [
    "#suppression des chiffres\n",
    "vec_noNb = CountVectorizer(preprocessor=preprocess_c)\n",
    "X_noNb = vec_noNb.fit_transform(train_txts)\n",
    "print('\\n \\nTexte sans chiffres: \\n', len(vec_noNb.get_feature_names()), vec_noNb.get_feature_names()[600:700]) # we only print a few"
   ]
  },
  {
   "cell_type": "markdown",
   "id": "77d21696",
   "metadata": {},
   "source": [
    "#### vi) Conservation d'une partie du texte seulement"
   ]
  },
  {
   "cell_type": "code",
   "execution_count": 53,
   "id": "7d3ad400",
   "metadata": {},
   "outputs": [],
   "source": [
    "#conservation d'une partie du texte seulement (seulement la première ligne = titre, seulement la dernière ligne = résumé, ...)"
   ]
  },
  {
   "cell_type": "markdown",
   "id": "aa6eae2c",
   "metadata": {},
   "source": [
    "#### vii) Vocabulaire réduit"
   ]
  },
  {
   "cell_type": "code",
   "execution_count": 54,
   "id": "f4f60a91",
   "metadata": {},
   "outputs": [
    {
     "name": "stdout",
     "output_type": "stream",
     "text": [
      "\n",
      " \n",
      "Vocabulaire réduit : \n",
      " 11653 ['apply', 'appreciate', 'appreciated', 'appreciation', 'apprentice', 'approach', 'approached', 'approaches', 'approaching', 'appropriate', 'appropriately', 'approximately', 'april', 'apt', 'aptly', 'arab', 'arbitrary', 'arc', 'arch', 'archetypal', 'archetypes', 'architect', 'are', 'area', 'areas', 'aren', 'arena', 'arguably', 'argue', 'argued', 'argues', 'arguing', 'argument', 'arguments', 'arise', 'arises', 'aristocrat', 'arizona', 'ark', 'arkin', 'arliss', 'arm', 'armageddon', 'armed', 'armies', 'armin', 'armor', 'armored', 'arms', 'army', 'arnie', 'arnold', 'around', 'arquette', 'arranged', 'arrangements', 'array', 'arrest', 'arrested', 'arresting', 'arrival', 'arrive', 'arrived', 'arrives', 'arriving', 'arrogance', 'arrogant', 'arrow', 'arsenal', 'art', 'artemus', 'arthur', 'article', 'articulate', 'artie', 'artifacts', 'artificial', 'artificially', 'artist', 'artistic', 'artists', 'arts', 'artsy', 'as', 'ash', 'ashamed', 'ashley', 'asian', 'aside', 'asides', 'ask', 'asked', 'askew', 'asking', 'asks', 'asleep', 'aspect', 'aspects', 'aspirations', 'aspire']\n"
     ]
    }
   ],
   "source": [
    "#Variation de la taille du vocabulaire #####PARAMS A CHANGER\n",
    "vec_sizeVoc = CountVectorizer(max_df=100000,min_df=5,max_features=25000) #Changer params\n",
    "X_sizeVoc = vec_sizeVoc.fit_transform(train_txts)\n",
    "print('\\n \\nVocabulaire réduit : \\n', len(vec_sizeVoc.get_feature_names()), vec_sizeVoc.get_feature_names()[600:700])"
   ]
  },
  {
   "cell_type": "markdown",
   "id": "7f8a6c26",
   "metadata": {},
   "source": [
    "#### viii) N-gram"
   ]
  },
  {
   "cell_type": "code",
   "execution_count": 55,
   "id": "2cc1b3cd",
   "metadata": {},
   "outputs": [
    {
     "name": "stdout",
     "output_type": "stream",
     "text": [
      "\n",
      " \n",
      " N-gram (2, 2): \n",
      " 420436 ['18 knows', '18 million', '18 minutes', '18 pilot', '18 plus', '18 soldiers', '18 ted', '18 theater', '18 to', '18 wheeler', '18 year', '180 degrees', '180 he', '180 minutes', '180 roman', '180 shift', '180 shot', '180 that', '1800 hrundi', '1800s entrepreneur', '1800s or', '1800s with', '1812 overture', '1830s portuguese', '1839 the', '1839 those', '1847 the', '1862 shaw', '1865 to', '1869 jim', '1869 several', '1871 deserted', '1871 in', '1871 the', '1885 geronimo', '1888 london', '189 minutes', '1896 wells', '1898 john', '1899 the', '18s who', '18th birthday', '18th century', '18th vomit', '19 1999', '19 90', '19 95', '19 chronicles', '19 he', '19 kjv', '19 million', '19 minutes', '19 months', '19 such', '19 the', '19 think', '19 year', '19 years', '1900 after', '1900 but', '1903 was', '1908 but', '1912 including', '1912 it', '1912 lovett', '1912 ship', '1912 stuart', '1912 the', '1913 he', '1914 as', '1914 by', '1919 chicago', '1919 documentary', '1920s 60s', '1922 silent', '1923 first', '1925 silent', '1928 director', '1928 film', '1930 italy', '1930 james', '1930s italian', '1930s one', '1930s period', '1930s reality', '1932 classic', '1932 film', '1932 original', '1933 and', '1933 version', '1934 film', '1935 paul', '1937 is', '1937 which', '1937 with', '1938 academy', '1938 fails', '1938 to', '1939 and', '1939 can']\n"
     ]
    }
   ],
   "source": [
    "#Unigram/bigram #####PARAMS A CHANGER\n",
    "N_gram = (2,2)\n",
    "vec_ngram = CountVectorizer(ngram_range=N_gram,analyzer='word') # Maybe 2-grams or 3-grams bring improvements ?\n",
    "X_ngram = vec_ngram.fit_transform(train_txts)\n",
    "print(f'\\n \\n N-gram {N_gram}: \\n', len(vec_ngram.get_feature_names()), vec_ngram.get_feature_names()[600:700])\n"
   ]
  },
  {
   "cell_type": "markdown",
   "id": "e1ca67b1",
   "metadata": {},
   "source": [
    "#### ix) Stemming"
   ]
  },
  {
   "cell_type": "code",
   "execution_count": 56,
   "id": "8e4ef969",
   "metadata": {},
   "outputs": [],
   "source": [
    "#Stemming"
   ]
  },
  {
   "cell_type": "markdown",
   "id": "f82ff577",
   "metadata": {},
   "source": [
    "#### x) POS"
   ]
  },
  {
   "cell_type": "code",
   "execution_count": 57,
   "id": "8b21e281",
   "metadata": {},
   "outputs": [],
   "source": [
    "#Part of speech tagging (POS)"
   ]
  },
  {
   "cell_type": "markdown",
   "id": "543b7e9f",
   "metadata": {},
   "source": [
    "Nous gardons alors les prétraitements qui nous intéressent pour la suite :"
   ]
  },
  {
   "cell_type": "code",
   "execution_count": 58,
   "id": "08524af2",
   "metadata": {},
   "outputs": [],
   "source": [
    "preprocessing = ['Sans pré-traitement', 'Sans ponctuation', 'Sans majuscules', 'Sans stop words', 'Sans chiffres', 'Vocabulaire réduit', 'N-gram']\n",
    "prepross_X = [X_no_PP, X_Clean, X_mM, X_noSW, X_noNb, X_sizeVoc, X_ngram]\n",
    "pp_vectorizer = [vec_no_PP, vec_Clean, vec_mM, vec_noSW, vec_noNb, vec_sizeVoc, vec_ngram]"
   ]
  },
  {
   "cell_type": "markdown",
   "id": "7cf908ce",
   "metadata": {},
   "source": [
    "### c) Extraction du vocabulaire"
   ]
  },
  {
   "cell_type": "markdown",
   "id": "b3fb2375",
   "metadata": {},
   "source": [
    "> #### Exploration préliminaire des jeux de données.\n",
    "> - Quelle est la taille d'origine du vocabulaire?\n",
    "> - Que reste-t-il si on ne garde que les 100 mots les plus fréquents? [word cloud]\n",
    "> - Quels sont les 100 mots dont la fréquence documentaire est la plus grande? [word cloud]\n",
    "> - Quels sont les 100 mots les plus discriminants au sens de odds ratio? [word cloud]\n",
    "> - Quelle est la distribution d'apparition des mots (Zipf)\n",
    "> - Quels sont les 100 bigrammes/trigrammes les plus fréquents?"
   ]
  },
  {
   "cell_type": "markdown",
   "id": "4b19d486",
   "metadata": {},
   "source": [
    "### d) Training and Testing"
   ]
  },
  {
   "cell_type": "markdown",
   "id": "4ea5cb71",
   "metadata": {},
   "source": [
    "> #### Modèles de Machine Learning\n",
    "Avant de lancer de grandes expériences, il faut se construire une base de travail solide en étudiant les questions suivantes:\n",
    "> - Combien de temps ça prend d'apprendre un classifieur NB/SVM/RegLog sur ces données en fonction de la taille du vocabulaire?\n",
    "> - La validation croisée est-elle nécessaire? Est ce qu'on obtient les mêmes résultats avec un simple *split*?\n",
    "> - La validation croisée est-elle stable? A partir de combien de fold (travailler avec différentes graines aléatoires et faire des statistiques basiques)?"
   ]
  },
  {
   "cell_type": "markdown",
   "id": "971876d2",
   "metadata": {},
   "source": [
    "> #### Première campagne d'expériences\n",
    "Les techniques sur lesquelles nous travaillons étant sujettes au sur-apprentissage: trouver le paramètre de régularisation dans la documentation et optimiser ce paramètre au sens de la métrique qui vous semble la plus appropriée (cf question précédente)."
   ]
  },
  {
   "cell_type": "markdown",
   "id": "e025cf12",
   "metadata": {},
   "source": [
    "> #### Equilibrage des données\n",
    "Un problème reconnu comme dur dans la communauté est celui de l'équilibrage des classes (*balance* en anglais). Que faire si les données sont à 80, 90 ou 99% dans une des classes?\n",
    "Le problème est dur mais fréquent; les solutions sont multiples mais on peut isoler 3 grandes familles de solution.\n",
    "> 1. Ré-équilibrer le jeu de données: supprimer des données dans la classe majoritaire et/ou sur-échantilloner la classe minoritaire.\n",
    "   $\\Rightarrow$ A vous de jouer pour cette technique\n",
    "> 2. Changer la formulation de la fonction de coût pour pénaliser plus les erreurs dans la classe minoritaire:\n",
    "soit une fonction $\\Delta$ mesurant les écarts entre $f(x_i)$ et $y_i$ \n",
    "$$C = \\sum_i  \\alpha_i \\Delta(f(x_i),y_i), \\qquad \\alpha_i = \\left\\{\n",
    "\\begin{array}{ll}\n",
    "1 & \\text{si } y_i \\in \\text{classe majoritaire}\\\\\n",
    "B>1 & \\text{si } y_i \\in \\text{classe minoritaire}\\\\\n",
    "\\end{array} \\right.$$\n",
    "   $\\Rightarrow$ Les SVM et d'autres approches sklearn possèdent des arguments pour régler $B$ ou $1/B$... Ces arguments sont utiles mais pas toujours suffisant.\n",
    "> 3. Courbe ROC et modification du biais. Une fois la fonction $\\hat y = f(x)$ apprise, il est possible de la *bidouiller* a posteriori: si toutes les prédictions $\\hat y$ sont dans une classe, on va introduire $b$ dans $\\hat y = f(x) + b$ et le faire varier jusqu'à ce qu'un des points change de classe. On peut ensuite aller de plus en plus loin.\n",
    "Le calcul de l'ensemble des scores associés à cette approche mène directement à la courbe ROC.\n",
    "**Note:** certains classifieurs sont intrinsèquement plus résistante au problème d'équilibrage, c'est par exemple le cas des techniques de gradient boosting que vous verrez l'an prochain."
   ]
  },
  {
   "cell_type": "code",
   "execution_count": 59,
   "id": "d73f2ecb",
   "metadata": {},
   "outputs": [
    {
     "name": "stdout",
     "output_type": "stream",
     "text": [
      "\n",
      " Sans pré-traitement\n",
      "Naïve Bayes accuracy: 0.8075\n",
      "Logistic Regression accuracy: 0.845\n",
      "SVM accuracy: 0.83\n",
      "\n",
      " Sans ponctuation\n",
      "Naïve Bayes accuracy: 0.8125\n",
      "Logistic Regression accuracy: 0.845\n",
      "SVM accuracy: 0.84\n",
      "\n",
      " Sans majuscules\n",
      "Naïve Bayes accuracy: 0.8075\n",
      "Logistic Regression accuracy: 0.845\n",
      "SVM accuracy: 0.83\n",
      "\n",
      " Sans stop words\n",
      "Naïve Bayes accuracy: 0.8075\n",
      "Logistic Regression accuracy: 0.8425\n",
      "SVM accuracy: 0.83\n",
      "\n",
      " Sans chiffres\n",
      "Naïve Bayes accuracy: 0.8075\n",
      "Logistic Regression accuracy: 0.8375\n",
      "SVM accuracy: 0.8275\n",
      "\n",
      " Vocabulaire réduit\n",
      "Naïve Bayes accuracy: 0.815\n",
      "Logistic Regression accuracy: 0.8425\n",
      "SVM accuracy: 0.835\n"
     ]
    },
    {
     "name": "stderr",
     "output_type": "stream",
     "text": [
      "C:\\Anaconda\\lib\\site-packages\\sklearn\\svm\\_base.py:1208: ConvergenceWarning: Liblinear failed to converge, increase the number of iterations.\n",
      "  ConvergenceWarning,\n"
     ]
    },
    {
     "name": "stdout",
     "output_type": "stream",
     "text": [
      "\n",
      " N-gram\n",
      "Naïve Bayes accuracy: 0.82\n",
      "Logistic Regression accuracy: 0.84\n",
      "SVM accuracy: 0.8225\n"
     ]
    }
   ],
   "source": [
    "from sklearn.naive_bayes import MultinomialNB\n",
    "from sklearn.linear_model import LogisticRegression\n",
    "from sklearn.svm import LinearSVC\n",
    "from sklearn.metrics import accuracy_score\n",
    "\n",
    "NB_acc_score = []\n",
    "LR_acc_score = []\n",
    "SVM_acc_score = []\n",
    "\n",
    "for index in range(len(prepross_X)):\n",
    "    #TRAIN\n",
    "    pp = preprocessing[index]\n",
    "    X = prepross_X[index]\n",
    "    vectorizer = pp_vectorizer[index]\n",
    "    \n",
    "    #Naïve Bayes\n",
    "    nb_clf = MultinomialNB()\n",
    "    nb_clf.fit(X, train_labs)\n",
    "\n",
    "\n",
    "    #Logistic Regression\n",
    "    lr_clf = LogisticRegression(random_state=0, solver='lbfgs',n_jobs=-1)\n",
    "    lr_clf.fit(X, train_labs)\n",
    "\n",
    "    #Linear SVM\n",
    "    svm_clf = LinearSVC(random_state=0, tol=1e-5)\n",
    "    svm_clf.fit(X, train_labs)\n",
    "\n",
    "    #TEST\n",
    "    true = test_labs #[pol for text,pol in alltxts]\n",
    "    #train_corpus = alltxts #[text for text,pol in alltxts]\n",
    "    X_test = vectorizer.transform(test_texts)\n",
    "\n",
    "    pred_nb = nb_clf.predict(X_test)\n",
    "    pred_lr = lr_clf.predict(X_test)\n",
    "    pred_svm = svm_clf.predict(X_test)\n",
    "\n",
    "    print('\\n', pp)\n",
    "    print(f\"Naïve Bayes accuracy: {accuracy_score(true, pred_nb)}\")\n",
    "    print(f\"Logistic Regression accuracy: {accuracy_score(true, pred_lr)}\")\n",
    "    print(f\"SVM accuracy: {accuracy_score(true, pred_svm)}\")\n",
    "    \n",
    "    NB_acc_score.append(accuracy_score(true, pred_nb))\n",
    "    LR_acc_score.append(accuracy_score(true, pred_lr))\n",
    "    SVM_acc_score.append(accuracy_score(true, pred_svm))\n"
   ]
  },
  {
   "cell_type": "markdown",
   "id": "f21cdba4",
   "metadata": {},
   "source": [
    "### c) Performances"
   ]
  },
  {
   "cell_type": "code",
   "execution_count": 60,
   "id": "30fe07c5",
   "metadata": {
    "scrolled": true
   },
   "outputs": [
    {
     "data": {
      "text/plain": [
       "([0, 1, 2, 3, 4, 5, 6],\n",
       " [Text(0, 0, ''),\n",
       "  Text(0, 0, ''),\n",
       "  Text(0, 0, ''),\n",
       "  Text(0, 0, ''),\n",
       "  Text(0, 0, ''),\n",
       "  Text(0, 0, ''),\n",
       "  Text(0, 0, '')])"
      ]
     },
     "execution_count": 60,
     "metadata": {},
     "output_type": "execute_result"
    },
    {
     "data": {
      "image/png": "[encoded data removed]",
      "text/plain": [
       "<Figure size 640x480 with 1 Axes>"
      ]
     },
     "metadata": {},
     "output_type": "display_data"
    }
   ],
   "source": [
    "#Plots\n",
    "plt.plot(preprocessing, NB_acc_score, label = 'Naïve Bayes')\n",
    "plt.plot(preprocessing, LR_acc_score, label = 'Logistic Regression')\n",
    "plt.plot(preprocessing, SVM_acc_score, label = 'SVM')\n",
    "plt.legend(loc='lower left')\n",
    "plt.xticks(rotation = 60)"
   ]
  },
  {
   "cell_type": "code",
   "execution_count": 61,
   "id": "505c92eb",
   "metadata": {},
   "outputs": [
    {
     "name": "stdout",
     "output_type": "stream",
     "text": [
      "Max NB :  N-gram\n",
      "Max LR :  Sans pré-traitement\n",
      "Max SVM :  Sans ponctuation\n",
      "Max preprocessing and classifier :  Sans pré-traitement\n"
     ]
    }
   ],
   "source": [
    "#Selection des meilleurs pp et classifiers\n",
    "index_NB = np.argmax(NB_acc_score) #Choisir un autre classifieur ?\n",
    "index_LR = np.argmax(LR_acc_score)\n",
    "index_SVM = np.argmax(SVM_acc_score)\n",
    "print('Max NB : ', preprocessing[index_NB])\n",
    "print('Max LR : ', preprocessing[index_LR])\n",
    "print('Max SVM : ', preprocessing[index_SVM])\n",
    "print('Max preprocessing and classifier : ', max(preprocessing[index_NB], preprocessing[index_LR], preprocessing[index_SVM]))"
   ]
  },
  {
   "cell_type": "markdown",
   "id": "10828e50",
   "metadata": {},
   "source": [
    "#### iv) Combinaison de prétraitements ? Classifieurs et Performances"
   ]
  },
  {
   "cell_type": "markdown",
   "id": "96a84a28",
   "metadata": {},
   "source": [
    "### d) Save results"
   ]
  },
  {
   "cell_type": "markdown",
   "id": "ed2bc8e9",
   "metadata": {},
   "source": [
    "### e) Compléments Optionnels W2V"
   ]
  },
  {
   "cell_type": "markdown",
   "id": "33499c2a",
   "metadata": {},
   "source": [
    "## 2. classification de locuteur sur des discours de Chirac et Mitterrand"
   ]
  },
  {
   "cell_type": "markdown",
   "id": "1ad2dcd1",
   "metadata": {},
   "source": [
    "**Analyses obligatoires**\n",
    "- Comparer les performances avec différents pré-traitements\n",
    "    - e.g Taille de vocabulaire, unigram/bigram, Stemming, ...\n",
    "- Implémenter un post-traitement sur les données Chirac/mittérrand\n",
    "- Appliquer les traitements optimaux sur les données de test et sauver les résultats dans un fichier txt\n",
    "\n",
    "**Compléments optionnels**\n",
    "- Analyser les performances avec Word2Vec, en utilisant des stratégies d'agrégation naïves\n"
   ]
  },
  {
   "cell_type": "code",
   "execution_count": null,
   "id": "d0761e8e",
   "metadata": {},
   "outputs": [],
   "source": []
  }
 ],
 "metadata": {
  "kernelspec": {
   "display_name": "Python 3 (ipykernel)",
   "language": "python",
   "name": "python3"
  },
  "language_info": {
   "codemirror_mode": {
    "name": "ipython",
    "version": 3
   },
   "file_extension": ".py",
   "mimetype": "text/x-python",
   "name": "python",
   "nbconvert_exporter": "python",
   "pygments_lexer": "ipython3",
   "version": "3.7.4"
  }
 },
 "nbformat": 4,
 "nbformat_minor": 5
}
