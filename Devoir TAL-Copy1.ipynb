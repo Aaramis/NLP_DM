{
 "cells": [
  {
   "cell_type": "markdown",
   "id": "95c2ee67",
   "metadata": {},
   "source": [
    "# Evaluation TAL: Traitement Automatique du Langage\n",
    "\n",
    "__\n",
    "\n",
    "Dans ce travail nous avons pour but de démontrer notre capacité à créer une chaine de traitement des données textuelles sur l'analyse d'opinion et la classification de locuteur. Pour ce faire nous aurons deux jeux de données :\n",
    "- Revues de film\n",
    "- Chirac/Mitterand"
   ]
  },
  {
   "cell_type": "markdown",
   "id": "bad06d73",
   "metadata": {},
   "source": [
    "> ## Classification de documents : prise en main des outils\n",
    "Le but de ce TP est de classer des documents textuels... Dans un premier temps, nous allons vérifier le bon fonctionnement des outils sur des données jouets puis appliquer les concepts sur des données réelles.\n",
    "\n",
    "> ###      Conception de la chaine de traitement\n",
    "Pour rappel, une chaine de traitement de documents classique est composée des étapes suivantes:\n",
    "> 1. Lecture des données et importation\n",
    "    - Dans le cadre de nos TP, nous faisons l'hypothèse que le corpus tient en mémoire... Si ce n'est pas le cas, il faut alors ajouter des structures de données avec des buffers (*data-reader*), bien plus complexes à mettre en place.\n",
    "    - Le plus grand piège concerne l'encodage des données. Dans le TP... Pas (ou peu) de problème. Dans la vraie vie: il faut faire attention à toujours maitriser les formats d'entrée et de sortie.\n",
    "> 2. Traitement des données brutes paramétrique. Chaque traitement doit être activable ou desactivable + paramétrable si besoin.\n",
    "    - Enlever les informations *inutiles* : chiffre, ponctuations, majuscules, etc... (**L'utilité dépend de l'application!**)\n",
    "    - Segmenter en mots (=*Tokenization*)\n",
    "    - Elimination des stop-words\n",
    "    - Stemming/lemmatisation (racinisation)\n",
    "    - Byte-pair encoding pour trouver les mots composés (e.g. Sorbonne Université, Ville de Paris, Premier Ministre, etc...)\n",
    "> 3. Traitement des données numériques\n",
    "    - Normalisation *term-frequency* / binarisation\n",
    "    - Normalisation *inverse document frequency*\n",
    "    - Elimination des mots rares, des mots trop fréquents\n",
    "    - Construction de critère de séparabilité pour éliminer des mots etc...\n",
    "> 4. Apprentissage d'un classifieur\n",
    "    - Choix du type de classifieur\n",
    "    - Réglage des paramètres du classifieur (régularisation, etc...)\n",
    "\n",
    "> ### Exploitation de la chaine de traitement\n",
    "On appelle cette étape la réalisation d'une campagne d'expériences: c'est le point clé que nous voulons traviller en TAL cette année.\n",
    "> 1. Il est impossible de tester toutes les combinaisons par rapport aux propositions ci-dessus... Il faut donc en éliminer un certain nombre.\n",
    "    - En discutant avec les experts métiers\n",
    "    - En faisant des tests préliminaires\n",
    "> 2. Après ce premier filtrage, il faut:\n",
    "    - Choisir une évaluation fiable et pas trop lente (validation croisée, leave-one-out, split apprentissage/test simple)\n",
    "    - Lancer des expériences en grand\n",
    "        - = *grid-search*\n",
    "        - parallèliser sur plusieurs machines\n",
    "        - savoir lancer sur un serveur et se déconnecter\n",
    "> 3. Collecter et analyser les résultats\n",
    "\n",
    "\n",
    ">### Inférence\n",
    "L'inférence est ensuite très classique: la chaine de traitement optimale est apte à traiter de nouveaux documents"
   ]
  },
  {
   "cell_type": "code",
   "execution_count": 1,
   "id": "d3f50a4c",
   "metadata": {},
   "outputs": [],
   "source": [
    "import numpy as np\n",
    "import matplotlib.pyplot as plt #%matplotlib inline\n",
    "import random as rnd\n",
    "\n",
    "import codecs\n",
    "import re\n",
    "import os.path"
   ]
  },
  {
   "cell_type": "markdown",
   "id": "b86a43e5",
   "metadata": {},
   "source": [
    "## 1. Analyse d'opinion sur des revues de film"
   ]
  },
  {
   "cell_type": "markdown",
   "id": "98e0efe3",
   "metadata": {},
   "source": [
    "**Analyses obligatoires**\n",
    "- Comparer les performances avec différents pré-traitements\n",
    "    - e.g Taille de vocabulaire, unigram/bigram, Stemming, ...\n",
    "- Appliquer les traitements optimaux sur les données de test et sauver les résultats dans un fichier txt\n",
    "\n",
    "**Compléments optionnels**\n",
    "- Analyser les performances avec Word2Vec, en utilisant des stratégies d'agrégation naïves\n"
   ]
  },
  {
   "cell_type": "markdown",
   "id": "424a41cf",
   "metadata": {},
   "source": [
    "### a) Load Data "
   ]
  },
  {
   "cell_type": "markdown",
   "id": "4c61a2e2",
   "metadata": {},
   "source": [
    "#### i) Load Movies and labs"
   ]
  },
  {
   "cell_type": "code",
   "execution_count": 2,
   "id": "092509a0",
   "metadata": {},
   "outputs": [],
   "source": [
    "def load_movies(path2data): # 1 classe par répertoire\n",
    "    alltxts = [] # init vide\n",
    "    labs = []\n",
    "    cpt = 0\n",
    "    for cl in os.listdir(path2data): # parcours des fichiers d'un répertoire\n",
    "        for f in os.listdir(path2data+cl):\n",
    "            txt = open(path2data+cl+'/'+f).read()\n",
    "            alltxts.append(txt)\n",
    "            labs.append(cpt)\n",
    "        cpt+=1 # chg répertoire = cht classe\n",
    "        \n",
    "    return alltxts,labs"
   ]
  },
  {
   "cell_type": "code",
   "execution_count": 3,
   "id": "dedd63d3",
   "metadata": {},
   "outputs": [],
   "source": [
    "path = \"movies/movies1000/\"\n",
    "\n",
    "alltxts,alllabs = load_movies(path)"
   ]
  },
  {
   "cell_type": "code",
   "execution_count": 4,
   "id": "fbad9d9a",
   "metadata": {},
   "outputs": [
    {
     "name": "stdout",
     "output_type": "stream",
     "text": [
      "2000 2000\n",
      "plot : two teen couples go to a church party , drink and then drive . \n",
      "they get into an accident . \n",
      "one of the guys dies , but his girlfriend continues to see him in her life , and has nightmares . \n",
      "what's the deal ? \n",
      "watch the movie and \" sorta \" find out . . . \n",
      "critique : a mind-fuck movie for the teen generation that touches on a very cool idea , but presents it in a very bad package . \n",
      "which is what makes this review an even harder one to write , since i generally applaud films which attempt to break the mold , mess with your head and such ( lost highway & memento ) , but there are good and bad ways of making all types of films , and these folks just didn't snag this one correctly . \n",
      "they seem to have taken this pretty neat concept , but executed it terribly . \n",
      "so what are the problems with the movie ? \n",
      "well , its main problem is that it's simply too jumbled . \n",
      "it starts off \" normal \" but then downshifts into this \" fantasy \" world in which you , as an audience member , have no idea what's going on . \n",
      "there are dreams , there are characters coming back from the dead , there are others who look like the dead , there are strange apparitions , there are disappearances , there are a looooot of chase scenes , there are tons of weird things that happen , and most of it is simply not explained . \n",
      "now i personally don't mind trying to unravel a film every now and then , but when all it does is give me the same clue over and over again , i get kind of fed up after a while , which is this film's biggest problem . \n",
      "it's obviously got this big secret to hide , but it seems to want to hide it completely until its final five minutes . \n",
      "and do they make things entertaining , thrilling or even engaging , in the meantime ? \n",
      "not really . \n",
      "the sad part is that the arrow and i both dig on flicks like this , so we actually figured most of it out by the half-way point , so all of the strangeness after that did start to make a little bit of sense , but it still didn't the make the film all that more entertaining . \n",
      "i guess the bottom line with movies like this is that you should always make sure that the audience is \" into it \" even before they are given the secret password to enter your world of understanding . \n",
      "i mean , showing melissa sagemiller running away from visions for about 20 minutes throughout the movie is just plain lazy ! ! \n",
      "okay , we get it . . . there \n",
      "are people chasing her and we don't know who they are . \n",
      "do we really need to see it over and over again ? \n",
      "how about giving us different scenes offering further insight into all of the strangeness going down in the movie ? \n",
      "apparently , the studio took this film away from its director and chopped it up themselves , and it shows . \n",
      "there might've been a pretty decent teen mind-fuck movie in here somewhere , but i guess \" the suits \" decided that turning it into a music video with little edge , would make more sense . \n",
      "the actors are pretty good for the most part , although wes bentley just seemed to be playing the exact same character that he did in american beauty , only in a new neighborhood . \n",
      "but my biggest kudos go out to sagemiller , who holds her own throughout the entire film , and actually has you feeling her character's unraveling . \n",
      "overall , the film doesn't stick because it doesn't entertain , it's confusing , it rarely excites and it feels pretty redundant for most of its runtime , despite a pretty cool ending and explanation to all of the craziness that came before it . \n",
      "oh , and by the way , this is not a horror or teen slasher flick . . . it's \n",
      "just packaged to look that way because someone is apparently assuming that the genre is still hot with the kids . \n",
      "it also wrapped production two years ago and has been sitting on the shelves ever since . \n",
      "whatever . . . skip \n",
      "it ! \n",
      "where's joblo coming from ? \n",
      "a nightmare of elm street 3 ( 7/10 ) - blair witch 2 ( 7/10 ) - the crow ( 9/10 ) - the crow : salvation ( 4/10 ) - lost highway ( 10/10 ) - memento ( 10/10 ) - the others ( 9/10 ) - stir of echoes ( 8/10 ) \n",
      "\n",
      "0\n",
      "truman ( \" true-man \" ) burbank is the perfect name for jim carrey's character in this film . \n",
      "president truman was an unassuming man who became known worldwide , in spite of ( or was it because of ) his stature . \n",
      " \" truman \" also recalls an era of plenty following a grim war , an era when planned communities built by government scientists promised an idyllic life for americans . \n",
      "and burbank , california , brings to mind the tonight show and the home of nbc . \n",
      "if hollywood is the center of the film world , burbank is , or was , the center of tv's world , the world where our protagonist lives . \n",
      "combine all these names and concepts into \" truman burbank , \" and you get something that well describes him and his artificial world . \n",
      "truman leads the perfect life . \n",
      "his town , his car , and his wife are picture perfect . \n",
      "his idea of reality comes under attack one day when a studio light falls from the sky . \n",
      "the radio explains that an overflying airplane started coming apart . \n",
      " . \n",
      " . \n",
      "but then why would an airplane be carrying a studio light ? \n",
      "the next day during the drive to work , the radio jams and he starts picking up a voice that exactly describes his movements . \n",
      "he is so distracted that he nearly hits a pedestrian . \n",
      "when the radio comes back to normal , the announcer warns listeners to drive carefully . \n",
      "his suspicion aroused , he wanders around the town square looking for other oddities . \n",
      "the world appears to be functioning properly until he enters an office building and tries to take the elevator . \n",
      "the elevator doors open up on a small lounge with people on coffee breaks . \n",
      "a grip sees truman him and quickly moves a paneled door , made to look like the back of an elevator , into place . \n",
      "two security guards grab him and throw him out . \n",
      "truman is really suspicious now . \n",
      "it gets even worse the next day when his wife , a nurse , describes an elevator accident in the building where he saw the lounge . \n",
      " \" it's best not to think about it , \" she says , trying vainly to change truman's memory . \n",
      "truman becomes determined to see who or what is behind this apparently elaborate hoax at his expense . \n",
      "at every turn he is stopped by an amazing coincidence that just happens to keep him in his own little town . \n",
      "his last hope is to quell his fear of the ocean and sail to the edge of the world . \n",
      "you know by now that truman's life is the subject of a television program . \n",
      "his actions are \" real \" but everything else is carefully scripted , from the death of his father to the choice of his wife . \n",
      "truman is determined to find out what the big hoax is . \n",
      "meanwhile , christof , the all-seeing creator of truman's world does his best to keep him unaware and happy . \n",
      "it's sort of like westworld told from the robots' point of view , or jurassic park from the dinosaurs' point of view . \n",
      "we root for the captive of the cage-world . \n",
      "our protagonist is counting on \" chaos theory \" to help him escape his elaborate trap . \n",
      "the story , written by andrew niccol ( writer/director of gattaca ) , introduces some interesting questions , such as the ethics of subjecting a person to this type of life , or the psychological impact of learning that your entire life has all been fake . \n",
      "although these questions came to mind , i don't think the film itself asked them . \n",
      "it certainly didn't address them or try to answer them . \n",
      "i was particularly disappointed that the film didn't deal more with the trauma of learning one's life is a tv show . \n",
      "carrey's performance at the end showed a smidgen of truman's pain , but i almost felt that he got over it too easily for the sake of the film's pacing . \n",
      "earlier in the movie i found myself wondering if it would be better for truman to find out the truth or whether i should root for him to be well . \n",
      "the two seemed exclusive of one another , but weir and niccol didn't see it that way . \n",
      "perhaps it's not fair to criticize a movie for what it isn't , but it seems like there were some missed opportunities here . \n",
      "but on its own terms , the movie is well made . \n",
      "sight , sound and pacing are all handled competently . \n",
      "much of the first part of the movie is the truman show . \n",
      "the scenes are all apparently shot from hidden cameras , with snoots and obstructions covering the corners of the screen . \n",
      "one hidden camera is apparently in his car radio , the green led numbers obscuring the lower part of the screen . \n",
      "the music is well-chosen and scored . \n",
      "the film opens with what sounds like family drama theme music , when truman's world is still beautiful and perfect . \n",
      "when the movie ends , the score sounds more like a frantic , driven , tangerine dream opus , while still keeping the same timbre . \n",
      "philip glass' epic music ( from powaqqatsi ) permeates truman's scenes of suspicion and awakening . \n",
      " ( glass has a small cameo as a keyboardist for the show . ) \n",
      "and the pacing of the story was brisk . \n",
      "there was no unnecessarily long setup explaining the concept behind the truman show , just a few quick title cards , a few interviews , and then right into the show , and the movie . \n",
      "one of the first scenes is of the studio light falling ; there was no token scene of truman's idyllic life before it falls apart , because it wasn't necessary , we pick up the story at the first sign of trouble , and no sooner . \n",
      "there's also no point in the movie where the plot slows down . \n",
      "it's a quick , straight shot to the movie's end . \n",
      "in terms of overall quality , i would compare the truman show to niccol's gattaca . \n",
      "both films are well made with interesting stories set in interesting worlds . \n",
      "but neither film really felt like it capitalized on all the great ideas ; neither film \" clicked \" and became an instant classic . \n",
      "nevertheless , i look forward to niccol's next film , whatever it may be . \n",
      "\n",
      "1\n"
     ]
    }
   ],
   "source": [
    "print(len(alltxts),len(alllabs))\n",
    "print(alltxts[0])\n",
    "print(alllabs[0])\n",
    "print(alltxts[-1])\n",
    "print(alllabs[-1])"
   ]
  },
  {
   "cell_type": "markdown",
   "id": "664acbef",
   "metadata": {},
   "source": [
    "#### ii) Split data into train and test"
   ]
  },
  {
   "cell_type": "code",
   "execution_count": 5,
   "id": "da7bb05f",
   "metadata": {},
   "outputs": [],
   "source": [
    "size_test = round(0.80*len(alltxts))\n",
    "index_train_txts = rnd.sample(range(len(alltxts)), size_test)\n",
    "\n",
    "train_txts = [alltxts[txt] for txt in index_train_txts]\n",
    "train_labs = [alllabs[txt] for txt in index_train_txts]\n",
    "\n",
    "test_texts = [alltxts[txt] for txt in range(len(alltxts)) if txt not in index_train_txts]\n",
    "test_labs = [alllabs[txt] for txt in range(len(alllabs)) if txt not in index_train_txts]\n",
    "\n",
    "#print(len(alltxts), len(test_texts), len(train_txts))"
   ]
  },
  {
   "cell_type": "markdown",
   "id": "9a116784",
   "metadata": {},
   "source": [
    "### b) Preprocessing\n",
    "\n",
    "> #### Transformation paramétrique du texte\n",
    "Vous devez tester, par exemple, les cas suivants:\n",
    "> - transformation en minuscule ou pas\n",
    "> - suppression de la ponctuation\n",
    "> - transformation des mots entièrement en majuscule en marqueurs spécifiques\n",
    "> - suppression des chiffres ou pas\n",
    "> - conservation d'une partie du texte seulement (seulement la première ligne = titre, seulement la dernière ligne = résumé, ...)\n",
    "> - stemming\n",
    "> - ...\n",
    "\n",
    "> Vérifier systématiquement sur un exemple ou deux le bon fonctionnement des méthodes sur deux documents (au moins un de chaque classe)."
   ]
  },
  {
   "cell_type": "code",
   "execution_count": 6,
   "id": "f9f126de",
   "metadata": {},
   "outputs": [],
   "source": [
    "from sklearn.feature_extraction.text import CountVectorizer"
   ]
  },
  {
   "cell_type": "markdown",
   "id": "4940501c",
   "metadata": {},
   "source": [
    "Dans un premier temps, les documents sont utilisés **sans prétraitement**. Puis nous ajoutons **différents prétraitements** afin de les comparer. Enfin, nous essaierons, si cela semble pertinent, de **combiner les prétraitements** pour optimiser les performances."
   ]
  },
  {
   "cell_type": "code",
   "execution_count": 7,
   "id": "c505fcdd",
   "metadata": {},
   "outputs": [],
   "source": [
    "#help(CountVectorizer)"
   ]
  },
  {
   "cell_type": "markdown",
   "id": "6cdb97a8",
   "metadata": {},
   "source": [
    "#### i) Sans pretraitement"
   ]
  },
  {
   "cell_type": "code",
   "execution_count": 8,
   "id": "7d6150bf",
   "metadata": {},
   "outputs": [
    {
     "name": "stdout",
     "output_type": "stream",
     "text": [
      "Sans pré-traitement : \n",
      " 36348 ['_survives_', '_that_', '_the', '_the_', '_the_broadway_musical_', '_the_last_days_of_disco_', '_the_lion_king', '_their_', '_there_', '_they', '_this_', '_titanic_', '_titus_', '_titus_andronicus_', '_to', '_today_', '_too_', '_twice_', '_two_', '_unbreakable_', '_vampires_', '_very_', '_very_small_', '_wag', '_wartime', '_wayyyyy_', '_what', '_whole_', '_will_', '_william_shakespeare', '_would_', 'aa', 'aaa', 'aaaaaaaaah', 'aaaaaaaahhhh', 'aaaaaah', 'aaaahhhs', 'aahs', 'aaliyah', 'aalyah', 'aamir', 'aardman', 'aaron', 'aatish', 'ab', 'aback', 'abandon', 'abandoned', 'abandoning', 'abandonment']\n"
     ]
    },
    {
     "name": "stderr",
     "output_type": "stream",
     "text": [
      "C:\\Anaconda\\lib\\site-packages\\sklearn\\utils\\deprecation.py:87: FutureWarning: Function get_feature_names is deprecated; get_feature_names is deprecated in 1.0 and will be removed in 1.2. Please use get_feature_names_out instead.\n",
      "  warnings.warn(msg, category=FutureWarning)\n"
     ]
    }
   ],
   "source": [
    "train_txts#Sans pré-traitement\n",
    "vec_no_PP = CountVectorizer(lowercase=False)\n",
    "X_no_PP = vec_no_PP.fit_transform(train_txts)\n",
    "print('Sans pré-traitement : \\n', len(vec_no_PP.get_feature_names()), vec_no_PP.get_feature_names()[550:600]) # we only print a few"
   ]
  },
  {
   "cell_type": "markdown",
   "id": "029deec6",
   "metadata": {},
   "source": [
    "#### ii) Sans ponctuation"
   ]
  },
  {
   "cell_type": "code",
   "execution_count": 9,
   "id": "067fcc1f",
   "metadata": {},
   "outputs": [],
   "source": [
    "def preprocess_p(text):\n",
    "    \"\"\"\n",
    "    Transforms text to remove unwanted bits.\n",
    "    \"\"\"\n",
    "    ponctuation = [\"!\", \":\", \",\", \".\", \"?\", \"+\", \"-\", \"&\", \"*\", \"%\", \"(\",\")\", \"_\", '\"', \"'\"]\n",
    "    for p in ponctuation:\n",
    "        text = text.replace(p,\" \")\n",
    "    return text # This function is only taking care of dots, what about !:,?+-&*%"
   ]
  },
  {
   "cell_type": "code",
   "execution_count": 10,
   "id": "b48e6852",
   "metadata": {},
   "outputs": [
    {
     "name": "stdout",
     "output_type": "stream",
     "text": [
      "\n",
      " \n",
      "Texte sans ponctuation: \n",
      " 36108 ['accepts', 'access', 'accessibility', 'accessible', 'accessorize', 'accessory', 'accident', 'accidental', 'accidentally', 'accidentlly', 'accidently', 'accidents', 'acclaim', 'acclaimed', 'acclimatize', 'accolade', 'accolades', 'accommodate', 'accommodates', 'accommodating', 'accommodations', 'accomodates', 'accompanied', 'accompanies', 'accompaniment', 'accompany', 'accompanying', 'accomplice', 'accomplices', 'accomplish', 'accomplished', 'accomplishes', 'accomplishing', 'accomplishment', 'accomplishments', 'accord', 'accordance', 'according', 'accordingly', 'accordion', 'accosted', 'account', 'accountability', 'accountable', 'accountant', 'accountants', 'accounted', 'accounts', 'accumulated', 'accumulation']\n"
     ]
    }
   ],
   "source": [
    "#Clean text ponctuation\n",
    "vec_Clean = CountVectorizer(preprocessor=preprocess_p)\n",
    "X_Clean = vec_Clean.fit_transform(train_txts)\n",
    "print('\\n \\nTexte sans ponctuation: \\n', len(vec_Clean.get_feature_names()), vec_Clean.get_feature_names()[550:600]) # we only print a few"
   ]
  },
  {
   "cell_type": "markdown",
   "id": "7b3033e5",
   "metadata": {},
   "source": [
    "#### iii) Sans majuscules"
   ]
  },
  {
   "cell_type": "code",
   "execution_count": 11,
   "id": "a57cc992",
   "metadata": {},
   "outputs": [
    {
     "name": "stdout",
     "output_type": "stream",
     "text": [
      "\n",
      " \n",
      "Texte sans majuscules: \n",
      " 36348 ['_survives_', '_that_', '_the', '_the_', '_the_broadway_musical_', '_the_last_days_of_disco_', '_the_lion_king', '_their_', '_there_', '_they', '_this_', '_titanic_', '_titus_', '_titus_andronicus_', '_to', '_today_', '_too_', '_twice_', '_two_', '_unbreakable_', '_vampires_', '_very_', '_very_small_', '_wag', '_wartime', '_wayyyyy_', '_what', '_whole_', '_will_', '_william_shakespeare', '_would_', 'aa', 'aaa', 'aaaaaaaaah', 'aaaaaaaahhhh', 'aaaaaah', 'aaaahhhs', 'aahs', 'aaliyah', 'aalyah', 'aamir', 'aardman', 'aaron', 'aatish', 'ab', 'aback', 'abandon', 'abandoned', 'abandoning', 'abandonment']\n"
     ]
    }
   ],
   "source": [
    "#Clean Text min/Maj\n",
    "vec_mM = CountVectorizer(lowercase=True)\n",
    "X_mM = vec_mM.fit_transform(train_txts)\n",
    "print('\\n \\nTexte sans majuscules: \\n', len(vec_mM.get_feature_names()), vec_mM.get_feature_names()[550:600]) # we only print a few"
   ]
  },
  {
   "cell_type": "markdown",
   "id": "5f17cdb4",
   "metadata": {},
   "source": [
    "#### iv) Sans stop words"
   ]
  },
  {
   "cell_type": "code",
   "execution_count": 12,
   "id": "2eddbed2",
   "metadata": {},
   "outputs": [],
   "source": [
    "from collections import Counter\n",
    "\n",
    "def most_common_words(texts, n):\n",
    "    \"\"\"\n",
    "    \"\"\"\n",
    "    wc = Counter()\n",
    "    for txt in texts:\n",
    "        wc.update(txt.split(\" \"))\n",
    "    \n",
    "    freq = [f for w,f in wc.most_common(1000)]\n",
    "    stop_words = [w for w,f in wc.most_common(n)]\n",
    "    return stop_words"
   ]
  },
  {
   "cell_type": "code",
   "execution_count": 13,
   "id": "dd6c9625",
   "metadata": {},
   "outputs": [
    {
     "name": "stdout",
     "output_type": "stream",
     "text": [
      "\n",
      " \n",
      "Sans stop words (frequents) : \n",
      " 36334 ['abandons', 'abating', 'abba', 'abberation', 'abbots', 'abbott', 'abbotts', 'abbreviated', 'abby', 'abc', 'abdomen', 'abducted', 'abductees', 'abduction', 'abductions', 'abdul', 'abe', 'abel', 'aberdeen', 'aberration', 'abetted', 'abetting', 'abeyance', 'abhorrence', 'abhorrent', 'abiility', 'abilities', 'ability', 'abject', 'ablaze', 'able', 'ably', 'abnormal', 'abo', 'aboard', 'abode', 'abolish', 'abolitionist', 'abolitionists', 'abominable', 'abomination', 'aborbed', 'abort', 'aborted', 'abortion', 'abortionist', 'abortions', 'abortive', 'abound', 'abounded', 'abounding', 'abounds', 'about', 'abouts', 'above', 'abraded', 'abraham', 'abrahams', 'abrams', 'abrasive', 'abroad', 'abrupt', 'abruptly', 'abs', 'absence', 'absences', 'absense', 'absent', 'absinthe', 'absoloute', 'absolut', 'absolute', 'absolutely', 'absolutes', 'absolution', 'absolutist', 'absolved', 'absorb', 'absorbed', 'absorbing', 'absorbs', 'absorption', 'abstinence', 'abstract', 'abstraction', 'absurd', 'absurdist', 'absurdities', 'absurdity', 'absurdly', 'abu', 'abundance', 'abundant', 'abundantly', 'abundence', 'abuse', 'abused', 'abuser', 'abusers', 'abuses']\n",
      "\n",
      " \n",
      "Sans stop words (par défaut) : \n",
      " 36347 ['_survives_', '_that_', '_the', '_the_', '_the_broadway_musical_', '_the_last_days_of_disco_', '_the_lion_king', '_their_', '_there_', '_they', '_this_', '_titanic_', '_titus_', '_titus_andronicus_', '_to', '_today_', '_too_', '_twice_', '_two_', '_unbreakable_', '_vampires_', '_very_', '_very_small_', '_wag', '_wartime', '_wayyyyy_', '_what', '_whole_', '_will_', '_william_shakespeare', '_would_', 'aa', 'aaa', 'aaaaaaaaah', 'aaaaaaaahhhh', 'aaaaaah', 'aaaahhhs', 'aahs', 'aaliyah', 'aalyah', 'aamir', 'aardman', 'aaron', 'aatish', 'ab', 'aback', 'abandon', 'abandoned', 'abandoning', 'abandonment']\n"
     ]
    }
   ],
   "source": [
    "#Remove stop words\n",
    "stop_words = most_common_words(train_txts, 20)\n",
    "vec_noSW_freq = CountVectorizer(stop_words=stop_words)\n",
    "X_noSW_freq = vec_noSW_freq.fit_transform(train_txts)\n",
    "print('\\n \\nSans stop words (frequents) : \\n', len(vec_noSW_freq.get_feature_names()), vec_noSW_freq.get_feature_names()[600:700]) # we only print a few\n",
    "\n",
    "vec_noSW = CountVectorizer(stop_words={'english'})\n",
    "X_noSW = vec_noSW.fit_transform(train_txts)\n",
    "print('\\n \\nSans stop words (par défaut) : \\n', len(vec_noSW.get_feature_names()), vec_noSW.get_feature_names()[550:600]) # we only print a few"
   ]
  },
  {
   "cell_type": "markdown",
   "id": "60c61885",
   "metadata": {},
   "source": [
    "#### v) Sans chiffres"
   ]
  },
  {
   "cell_type": "code",
   "execution_count": 14,
   "id": "f166a09c",
   "metadata": {},
   "outputs": [],
   "source": [
    "def preprocess_c(text):\n",
    "    \"\"\"\n",
    "    Transforms text to remove unwanted bits.\n",
    "    \"\"\"\n",
    "    chiffres = [\"0\", \"1\", \"2\", \"3\", \"4\", \"5\", \"6\", \"7\", \"8\", \"9\"]\n",
    "    for c in chiffres:\n",
    "        text = text.replace(c,\" \")\n",
    "    return text # This function is only taking care of dots, what about !:,?+-&*%"
   ]
  },
  {
   "cell_type": "code",
   "execution_count": 15,
   "id": "814cc007",
   "metadata": {},
   "outputs": [
    {
     "name": "stdout",
     "output_type": "stream",
     "text": [
      "\n",
      " \n",
      "Texte sans chiffres: \n",
      " 35913 ['adlai', 'adlib', 'administered', 'administering', 'administration', 'administrative', 'administrator', 'admirable', 'admirably', 'admirals', 'admiration', 'admire', 'admired', 'admirer', 'admirers', 'admires', 'admiring', 'admission', 'admit', 'admitedly', 'admiting', 'admits', 'admittance', 'admitted', 'admittedly', 'admitting', 'admittingly', 'admonition', 'ado', 'adolescence', 'adolescent', 'adolescents', 'adolf', 'adolph', 'adopt', 'adopted', 'adopting', 'adoption', 'adoptive', 'adopts', 'adorable', 'adorableness', 'adorably', 'adoration', 'adore', 'adored', 'adores', 'adoring', 'adorn', 'adorned']\n"
     ]
    }
   ],
   "source": [
    "#suppression des chiffres\n",
    "vec_noNb = CountVectorizer(preprocessor=preprocess_c)\n",
    "X_noNb = vec_noNb.fit_transform(train_txts)\n",
    "print('\\n \\nTexte sans chiffres: \\n', len(vec_noNb.get_feature_names()), vec_noNb.get_feature_names()[550:600]) # we only print a few"
   ]
  },
  {
   "cell_type": "markdown",
   "id": "d04b15f1",
   "metadata": {},
   "source": [
    "#### vi) Conservation d'une partie du texte seulement"
   ]
  },
  {
   "cell_type": "code",
   "execution_count": 16,
   "id": "dcc9d13b",
   "metadata": {},
   "outputs": [],
   "source": [
    "#conservation d'une partie du texte seulement (seulement la première ligne = titre, seulement la dernière ligne = résumé, ...)\n",
    "\n",
    "def preprocess_titre(text):\n",
    "    \"\"\"\n",
    "    Transforms text to keep only the fisrt row.\n",
    "    \"\"\"\n",
    "    ligne = text.split('\\n')\n",
    "    text = ligne[0]\n",
    "    return text\n",
    "\n",
    "def preprocess_resume(text):\n",
    "    \"\"\"\n",
    "    Transforms text to keep only the last row.\n",
    "    \"\"\"\n",
    "    ligne = text.split('\\n')\n",
    "    i = -1\n",
    "    while ligne[i] == '':\n",
    "        i-=1\n",
    "    text = ligne[i]\n",
    "    return text"
   ]
  },
  {
   "cell_type": "code",
   "execution_count": 17,
   "id": "60759d76",
   "metadata": {},
   "outputs": [
    {
     "name": "stdout",
     "output_type": "stream",
     "text": [
      "\n",
      " \n",
      "Texte réduit à son titre : \n",
      " 6855 ['avid', 'avoid', 'avowed', 'awaited', 'awaits', 'awake', 'awaken', 'awakenings', 'award', 'awarded', 'awards', 'aware', 'away', 'awe', 'awesome', 'awful', 'awhile', 'awkward', 'axe', 'ayla', 'baadasssss', 'babe', 'babies', 'baby', 'babysitting', 'bachelor', 'back', 'backdrop', 'background', 'backlash', 'backs', 'bacon', 'bad', 'badly', 'badness', 'bait', 'baldwin', 'ball', 'ballet', 'ballistic', 'ballyhoo', 'banana', 'bananas', 'band', 'bandaged', 'banderas', 'bandits', 'bang', 'banished', 'bank']\n",
      "\n",
      " \n",
      "Texte réduit à son résumé : \n",
      " 5187 ['boast', 'bob', 'body', 'boldly', 'bolt', 'bomb', 'bond', 'bone', 'boneheaded', 'bont', 'boogie', 'boogieman', 'book', 'books', 'bopper', 'bordering', 'borderline', 'bore', 'bored', 'boring', 'born', 'borrowers', 'boss', 'both', 'bother', 'bottle', 'bottom', 'bound', 'bow', 'box', 'boxing', 'boy', 'boyfriend', 'boyle', 'boys', 'brad', 'brain', 'brainers', 'branagh', 'brandon', 'brasco', 'bratty', 'brauva', 'brazil', 'break', 'breakfast', 'breaking', 'breaks', 'breakup', 'breath']\n"
     ]
    }
   ],
   "source": [
    "#Part of the text\n",
    "vec_title = CountVectorizer(preprocessor=preprocess_titre)\n",
    "X_title = vec_title.fit_transform(train_txts)\n",
    "print('\\n \\nTexte réduit à son titre : \\n', len(vec_title.get_feature_names()), vec_title.get_feature_names()[550:600]) \n",
    "\n",
    "vec_resume = CountVectorizer(preprocessor=preprocess_resume)\n",
    "X_resume = vec_resume.fit_transform(train_txts)\n",
    "print('\\n \\nTexte réduit à son résumé : \\n', len(vec_resume.get_feature_names()), vec_resume.get_feature_names()[550:600]) \n"
   ]
  },
  {
   "cell_type": "markdown",
   "id": "4d629163",
   "metadata": {},
   "source": [
    "#### vii) Vocabulaire réduit"
   ]
  },
  {
   "cell_type": "code",
   "execution_count": 18,
   "id": "487e5f08",
   "metadata": {},
   "outputs": [
    {
     "name": "stdout",
     "output_type": "stream",
     "text": [
      "\n",
      " \n",
      "Vocabulaire réduit : \n",
      " 11617 ['anybody', 'anyhow', 'anymore', 'anyone', 'anything', 'anytime', 'anyway', 'anywhere', 'apart', 'apartment', 'ape', 'apes', 'aphrodite', 'apocalypse', 'apocalyptic', 'apollo', 'apologize', 'appalling', 'apparent', 'apparently', 'apparitions', 'appeal', 'appealing', 'appeals', 'appear', 'appearance', 'appearances', 'appeared', 'appearing', 'appears', 'applaud', 'applauded', 'applause', 'apple', 'applied', 'applies', 'apply', 'appointed', 'appreciate', 'appreciated', 'appreciation', 'apprentice', 'approach', 'approached', 'approaches', 'approaching', 'appropriate', 'appropriately', 'approximately', 'april']\n"
     ]
    }
   ],
   "source": [
    "#Variation de la taille du vocabulaire #####PARAMS A CHANGER\n",
    "vec_sizeVoc = CountVectorizer(max_df=100000,min_df=5,max_features=25000) #Changer params\n",
    "X_sizeVoc = vec_sizeVoc.fit_transform(train_txts)\n",
    "print('\\n \\nVocabulaire réduit : \\n', len(vec_sizeVoc.get_feature_names()), vec_sizeVoc.get_feature_names()[550:600])"
   ]
  },
  {
   "cell_type": "markdown",
   "id": "43c439b7",
   "metadata": {},
   "source": [
    "#### viii) N-gram"
   ]
  },
  {
   "cell_type": "code",
   "execution_count": 19,
   "id": "008f8004",
   "metadata": {},
   "outputs": [
    {
     "name": "stdout",
     "output_type": "stream",
     "text": [
      "\n",
      " \n",
      " N-gram (2, 2): \n",
      " 419020 ['165 mph', '16mm 35mm', '16mm camera', '16mm film', '16mm was', '16th century', '16th floor', '16x9 televisions', '17 1997', '17 and', '17 but', '17 cannot', '17 contains', '17 day', '17 days', '17 for', '17 hell', '17 in', '17 long', '17 mainly', '17 or', '17 people', '17 pg', '17 rated', '17 rating', '17 the', '17 those', '17 to', '17 whatever', '17 year', '17 years', '170 minutes', '1700s suddenly', '1709 is', '175 million', '175 years', '1773 he', '1791 louisiana', '1792 she', '1793 but', '1794 bold', '1799 sleepy', '17th appearance', '17th birthday', '17th century', '18 16', '18 1998', '18 albany', '18 and', '18 bond']\n",
      "\n",
      " \n",
      " N-gram (3, 3): \n",
      " 805619 ['115 minutes considering', '115 minutes the', '117 minutes directed', '118 minutes not', '11th hour regurgitation', '11th hour reshoots', '12 000 just', '12 1999 10', '12 2001 that', '12 99 the', '12 and 13', '12 and up', '12 and watching', '12 angry men', '12 deal with', '12 fingered piano', '12 gold chains', '12 hour cold', '12 hour painkiller', '12 hours few', '12 hours worth', '12 is just', '12 midnight in', '12 million oh', '12 minute uninterrupted', '12 monkeys 10', '12 monkeys and', '12 monkeys contaminated', '12 monkeys or', '12 monkeys spacey', '12 monkeys was', '12 night celebration', '12 seconds of', '12 step programs', '12 tarzan features', '12 times she', '12 tribes of', '12 year old', '12 year span', '121 out of', '122 and braxton', '123 minutes at', '125 minutes of', '126 minute of', '126 minutes of', '127 minute running', '128 bond chases', '129 minutes director', '129 minutes this', '13 1998 at']\n",
      "\n",
      " \n",
      " N-gram (1, 2): \n",
      " 455368 ['15 1998', '15 24', '15 at', '15 by', '15 clicks', '15 decent', '15 film', '15 foot', '15 his', '15 miles', '15 million', '15 minutes', '15 months', '15 more', '15 of', '15 or', '15 seconds', '15 straight', '15 week', '15 with', '15 year', '15 years', '150', '150 18', '150 million', '150 minutes', '150 movie', '150 years', '1500s', '1500s england', '1500s it', '151', '151 by', '152', '152 minute', '1521', '1521 two', '153', '153 times', '155', '155 minutes', '1554', '1554 as', '157', '157 minutes', '1590', '1590 would', '15th', '15th story', '15th year']\n",
      "\n",
      " \n",
      " N-gram (1, 3): \n",
      " 1260987 ['10 romeo', '10 romeo must', '10 runaway', '10 runaway bride', '10 rush', '10 rush hour', '10 rushmore', '10 rushmore 10', '10 save', '10 save the', '10 say', '10 say it', '10 scale', '10 scale and', '10 screenwriter', '10 screenwriter peter', '10 script', '10 script to', '10 second', '10 second rule', '10 seconds', '10 seconds in', '10 seconds you', '10 session', '10 session is', '10 seven', '10 seven 10', '10 shadow', '10 shadow of', '10 shaft', '10 shaft 10', '10 shakespeare', '10 shakespeare in', '10 shanghai', '10 shanghai noon', '10 she', '10 she all', '10 sleepy', '10 sleepy hollow', '10 small', '10 small time', '10 someone', '10 someone like', '10 songcatcher', '10 songcatcher is', '10 species', '10 species 10', '10 stir', '10 stir of', '10 story']\n"
     ]
    }
   ],
   "source": [
    "#Unigram/bigram #####PARAMS A CHANGER\n",
    "N_gram = (2,2)\n",
    "vec_ngram22 = CountVectorizer(ngram_range=N_gram,analyzer='word') # Maybe 2-grams or 3-grams bring improvements ?\n",
    "X_ngram22 = vec_ngram22.fit_transform(train_txts)\n",
    "print(f'\\n \\n N-gram {N_gram}: \\n', len(vec_ngram22.get_feature_names()), vec_ngram22.get_feature_names()[550:600])\n",
    "\n",
    "N_gram = (3,3)\n",
    "vec_ngram33 = CountVectorizer(ngram_range=N_gram,analyzer='word') \n",
    "X_ngram33 = vec_ngram33.fit_transform(train_txts)\n",
    "print(f'\\n \\n N-gram {N_gram}: \\n', len(vec_ngram33.get_feature_names()), vec_ngram33.get_feature_names()[550:600])\n",
    "\n",
    "N_gram = (1,2)\n",
    "vec_ngram12 = CountVectorizer(ngram_range=N_gram,analyzer='word') \n",
    "X_ngram12 = vec_ngram12.fit_transform(train_txts)\n",
    "print(f'\\n \\n N-gram {N_gram}: \\n', len(vec_ngram12.get_feature_names()), vec_ngram12.get_feature_names()[550:600])\n",
    "\n",
    "N_gram = (1,3)\n",
    "vec_ngram13 = CountVectorizer(ngram_range=N_gram,analyzer='word') \n",
    "X_ngram13 = vec_ngram13.fit_transform(train_txts)\n",
    "print(f'\\n \\n N-gram {N_gram}: \\n', len(vec_ngram13.get_feature_names()), vec_ngram13.get_feature_names()[550:600])\n"
   ]
  },
  {
   "cell_type": "markdown",
   "id": "1502d98b",
   "metadata": {},
   "source": [
    "#### ix) Stemming"
   ]
  },
  {
   "cell_type": "code",
   "execution_count": 20,
   "id": "adfb0dcc",
   "metadata": {},
   "outputs": [],
   "source": [
    "#Stemming\n",
    "from nltk.stem import PorterStemmer\n",
    "from nltk.tokenize import word_tokenize \n",
    "\n",
    "def preprocess_stemming(text):\n",
    "    \"\"\"\n",
    "    Transforms text to keep only stemmed words.\n",
    "    \"\"\"\n",
    "    ps = PorterStemmer()\n",
    "    tokens = word_tokenize(text)\n",
    "    stemmed = ''\n",
    "    for token in tokens:\n",
    "        stemmed_word = ps.stem(token)\n",
    "        stemmed += (' ' + stemmed_word)\n",
    "    return stemmed"
   ]
  },
  {
   "cell_type": "code",
   "execution_count": 21,
   "id": "abcc0ac2",
   "metadata": {},
   "outputs": [
    {
     "name": "stdout",
     "output_type": "stream",
     "text": [
      "\n",
      " \n",
      "Texte avec stemming : \n",
      " 25063 ['_unbreakable_', '_vampires_', '_very_', '_very_small_', '_wag', '_wartim', '_wayyyyy_', '_what', '_whole_', '_will_', '_william_shakespeare', '_would_', 'aa', 'aaa', 'aaaaaaaaah', 'aaaaaaaahhhh', 'aaaaaah', 'aaaahhh', 'aah', 'aaliyah', 'aalyah', 'aamir', 'aardman', 'aaron', 'aatish', 'ab', 'aback', 'abandon', 'abat', 'abba', 'abber', 'abbi', 'abbot', 'abbott', 'abbrevi', 'abc', 'abdomen', 'abduct', 'abducte', 'abdul', 'abe', 'abel', 'aberdeen', 'aberr', 'abet', 'abey', 'abhorr', 'abiil', 'abil', 'abject']\n"
     ]
    }
   ],
   "source": [
    "#stemming\n",
    "vec_stem = CountVectorizer(preprocessor=preprocess_stemming)\n",
    "X_stem = vec_stem.fit_transform(train_txts)\n",
    "print('\\n \\nTexte avec stemming : \\n', len(vec_stem.get_feature_names()), vec_stem.get_feature_names()[550:600]) "
   ]
  },
  {
   "cell_type": "markdown",
   "id": "c81a6a9e",
   "metadata": {},
   "source": [
    "#### x) POS"
   ]
  },
  {
   "cell_type": "code",
   "execution_count": 22,
   "id": "863d9cd6",
   "metadata": {},
   "outputs": [],
   "source": [
    "#Part of speech tagging (POS)\n",
    "from nltk.tag import pos_tag\n",
    "import nltk\n",
    "#nltk.download('averaged_perceptron_tagger')\n",
    "\n",
    "def preprocess_pos(text):\n",
    "    \"\"\"\n",
    "    Transforms text to keep only adjectives\n",
    "    \"\"\"\n",
    "    tokens = word_tokenize(text)\n",
    "    pt = pos_tag(tokens)\n",
    "    pos = [word for word, tag in pt if tag =='JJ' or tag =='JJR' or tag =='JJS'] #adjectives\n",
    "    tagged = ''\n",
    "    for w in pos:\n",
    "        tagged += (' ' + w)\n",
    "    return tagged"
   ]
  },
  {
   "cell_type": "code",
   "execution_count": 23,
   "id": "6e8dfab2",
   "metadata": {},
   "outputs": [
    {
     "name": "stdout",
     "output_type": "stream",
     "text": [
      "\n",
      " \n",
      "Texte avec part of speech tagging : \n",
      " 11794 ['animatronic', 'anime', 'aniston', 'anita', 'anjelica', 'ann', 'anna', 'annabella', 'anne', 'annette', 'anney', 'annie', 'anniversary', 'annoyed', 'annoying', 'annual', 'anomaly', 'anonymous', 'answering', 'ant', 'antagonist', 'antagonistic', 'antarctic', 'antennae', 'anthology', 'anthony', 'anthro', 'anti', 'anticipated', 'anticlimactic', 'anticlimatic', 'anticlimaxic', 'antionio', 'antique', 'antiseptic', 'antisocial', 'antoine', 'antonio', 'antsy', 'antwerp', 'antz', 'anxiety', 'anxious', 'aoki', 'aol', 'apartheid', 'apathy', 'ape', 'apes', 'apocalypse']\n"
     ]
    }
   ],
   "source": [
    "#pos\n",
    "vec_pos = CountVectorizer(preprocessor=preprocess_pos)\n",
    "X_pos = vec_pos.fit_transform(train_txts)\n",
    "print('\\n \\nTexte avec part of speech tagging : \\n', len(vec_pos.get_feature_names()), vec_pos.get_feature_names()[550:600]) "
   ]
  },
  {
   "cell_type": "markdown",
   "id": "9c449b9c",
   "metadata": {},
   "source": [
    "Nous gardons alors les prétraitements qui nous intéressent pour la suite :"
   ]
  },
  {
   "cell_type": "code",
   "execution_count": 24,
   "id": "08524af2",
   "metadata": {},
   "outputs": [],
   "source": [
    "preprocessing = ['Sans pré-traitement', \n",
    "                 'Sans ponctuation', \n",
    "                 'Sans majuscules', \n",
    "                 'Sans stop words fréquents',\n",
    "                 'Sans stop words par défaut',\n",
    "                 'Sans chiffres',\n",
    "                 'Conservation du titre',\n",
    "                 'Conservation du résumé', \n",
    "                 'Vocabulaire réduit', \n",
    "                 'N-gram (2,2)',\n",
    "                 'N-gram (3,3)',\n",
    "                 'N-gram (1,2)',\n",
    "                 'N-gram (1,3)',\n",
    "                 'Stemming',\n",
    "                 'Part of speech tagging']\n",
    "\n",
    "prepross_X = [X_no_PP, X_Clean, X_mM, X_noSW_freq, X_noSW, X_noNb, X_title, \n",
    "              X_resume, X_sizeVoc, X_ngram22, X_ngram33, X_ngram12, X_ngram13,\n",
    "              X_stem, X_pos]\n",
    "\n",
    "pp_vectorizer = [vec_no_PP, vec_Clean, vec_mM, vec_noSW_freq, vec_noSW, vec_noNb, vec_title, \n",
    "                 vec_resume, vec_sizeVoc, vec_ngram22, vec_ngram33, vec_ngram12, vec_ngram13,\n",
    "                 vec_stem, vec_pos]"
   ]
  },
  {
   "cell_type": "markdown",
   "id": "a16507bc",
   "metadata": {},
   "source": [
    "### c) Extraction du vocabulaire"
   ]
  },
  {
   "cell_type": "markdown",
   "id": "36eafe35",
   "metadata": {},
   "source": [
    "> #### Exploration préliminaire des jeux de données.\n",
    "> - Quelle est la taille d'origine du vocabulaire?\n",
    "> - Que reste-t-il si on ne garde que les 100 mots les plus fréquents? [word cloud]\n",
    "> - Quels sont les 100 mots dont la fréquence documentaire est la plus grande? [word cloud]\n",
    "> - Quels sont les 100 mots les plus discriminants au sens de odds ratio? [word cloud]\n",
    "> - Quelle est la distribution d'apparition des mots (Zipf)\n",
    "> - Quels sont les 100 bigrammes/trigrammes les plus fréquents?"
   ]
  },
  {
   "cell_type": "markdown",
   "id": "4b19d486",
   "metadata": {},
   "source": [
    "### d) Training and Testing"
   ]
  },
  {
   "cell_type": "markdown",
   "id": "af8dcf04",
   "metadata": {},
   "source": [
    "> #### Modèles de Machine Learning\n",
    "Avant de lancer de grandes expériences, il faut se construire une base de travail solide en étudiant les questions suivantes:\n",
    "> - Combien de temps ça prend d'apprendre un classifieur NB/SVM/RegLog sur ces données en fonction de la taille du vocabulaire?\n",
    "> - La validation croisée est-elle nécessaire? Est ce qu'on obtient les mêmes résultats avec un simple *split*?\n",
    "> - La validation croisée est-elle stable? A partir de combien de fold (travailler avec différentes graines aléatoires et faire des statistiques basiques)?"
   ]
  },
  {
   "cell_type": "markdown",
   "id": "dfdd86b2",
   "metadata": {},
   "source": [
    "> #### Première campagne d'expériences\n",
    "Les techniques sur lesquelles nous travaillons étant sujettes au sur-apprentissage: trouver le paramètre de régularisation dans la documentation et optimiser ce paramètre au sens de la métrique qui vous semble la plus appropriée (cf question précédente)."
   ]
  },
  {
   "cell_type": "markdown",
   "id": "5bdad8bd",
   "metadata": {},
   "source": [
    "> #### Equilibrage des données\n",
    "Un problème reconnu comme dur dans la communauté est celui de l'équilibrage des classes (*balance* en anglais). Que faire si les données sont à 80, 90 ou 99% dans une des classes?\n",
    "Le problème est dur mais fréquent; les solutions sont multiples mais on peut isoler 3 grandes familles de solution.\n",
    "> 1. Ré-équilibrer le jeu de données: supprimer des données dans la classe majoritaire et/ou sur-échantilloner la classe minoritaire.\n",
    "   $\\Rightarrow$ A vous de jouer pour cette technique\n",
    "> 2. Changer la formulation de la fonction de coût pour pénaliser plus les erreurs dans la classe minoritaire:\n",
    "soit une fonction $\\Delta$ mesurant les écarts entre $f(x_i)$ et $y_i$ \n",
    "$$C = \\sum_i  \\alpha_i \\Delta(f(x_i),y_i), \\qquad \\alpha_i = \\left\\{\n",
    "\\begin{array}{ll}\n",
    "1 & \\text{si } y_i \\in \\text{classe majoritaire}\\\\\n",
    "B>1 & \\text{si } y_i \\in \\text{classe minoritaire}\\\\\n",
    "\\end{array} \\right.$$\n",
    "   $\\Rightarrow$ Les SVM et d'autres approches sklearn possèdent des arguments pour régler $B$ ou $1/B$... Ces arguments sont utiles mais pas toujours suffisant.\n",
    "> 3. Courbe ROC et modification du biais. Une fois la fonction $\\hat y = f(x)$ apprise, il est possible de la *bidouiller* a posteriori: si toutes les prédictions $\\hat y$ sont dans une classe, on va introduire $b$ dans $\\hat y = f(x) + b$ et le faire varier jusqu'à ce qu'un des points change de classe. On peut ensuite aller de plus en plus loin.\n",
    "Le calcul de l'ensemble des scores associés à cette approche mène directement à la courbe ROC.\n",
    "**Note:** certains classifieurs sont intrinsèquement plus résistante au problème d'équilibrage, c'est par exemple le cas des techniques de gradient boosting que vous verrez l'an prochain."
   ]
  },
  {
   "cell_type": "code",
   "execution_count": 25,
   "id": "d73f2ecb",
   "metadata": {},
   "outputs": [
    {
     "name": "stdout",
     "output_type": "stream",
     "text": [
      "\n",
      " Sans pré-traitement\n",
      "Naïve Bayes accuracy: 0.805\n",
      "Logistic Regression accuracy: 0.8475\n",
      "SVM accuracy: 0.84\n",
      "\n",
      " Sans ponctuation\n",
      "Naïve Bayes accuracy: 0.805\n",
      "Logistic Regression accuracy: 0.855\n",
      "SVM accuracy: 0.84\n",
      "\n",
      " Sans majuscules\n",
      "Naïve Bayes accuracy: 0.805\n",
      "Logistic Regression accuracy: 0.8475\n",
      "SVM accuracy: 0.84\n",
      "\n",
      " Sans stop words fréquents\n",
      "Naïve Bayes accuracy: 0.81\n",
      "Logistic Regression accuracy: 0.85\n",
      "SVM accuracy: 0.835\n",
      "\n",
      " Sans stop words par défaut\n",
      "Naïve Bayes accuracy: 0.805\n",
      "Logistic Regression accuracy: 0.8475\n",
      "SVM accuracy: 0.84\n",
      "\n",
      " Sans chiffres\n",
      "Naïve Bayes accuracy: 0.8075\n",
      "Logistic Regression accuracy: 0.8525\n",
      "SVM accuracy: 0.83\n",
      "\n",
      " Conservation du titre\n",
      "Naïve Bayes accuracy: 0.57\n",
      "Logistic Regression accuracy: 0.5575\n",
      "SVM accuracy: 0.56\n",
      "\n",
      " Conservation du résumé\n",
      "Naïve Bayes accuracy: 0.63\n",
      "Logistic Regression accuracy: 0.645\n",
      "SVM accuracy: 0.615\n",
      "\n",
      " Vocabulaire réduit\n",
      "Naïve Bayes accuracy: 0.83\n",
      "Logistic Regression accuracy: 0.85\n",
      "SVM accuracy: 0.83\n"
     ]
    },
    {
     "name": "stderr",
     "output_type": "stream",
     "text": [
      "C:\\Anaconda\\lib\\site-packages\\sklearn\\svm\\_base.py:1208: ConvergenceWarning: Liblinear failed to converge, increase the number of iterations.\n",
      "  ConvergenceWarning,\n"
     ]
    },
    {
     "name": "stdout",
     "output_type": "stream",
     "text": [
      "\n",
      " N-gram (2,2)\n",
      "Naïve Bayes accuracy: 0.8325\n",
      "Logistic Regression accuracy: 0.8075\n",
      "SVM accuracy: 0.8125\n"
     ]
    },
    {
     "name": "stderr",
     "output_type": "stream",
     "text": [
      "C:\\Anaconda\\lib\\site-packages\\sklearn\\svm\\_base.py:1208: ConvergenceWarning: Liblinear failed to converge, increase the number of iterations.\n",
      "  ConvergenceWarning,\n"
     ]
    },
    {
     "name": "stdout",
     "output_type": "stream",
     "text": [
      "\n",
      " N-gram (3,3)\n",
      "Naïve Bayes accuracy: 0.805\n",
      "Logistic Regression accuracy: 0.775\n",
      "SVM accuracy: 0.78\n"
     ]
    },
    {
     "name": "stderr",
     "output_type": "stream",
     "text": [
      "C:\\Anaconda\\lib\\site-packages\\sklearn\\svm\\_base.py:1208: ConvergenceWarning: Liblinear failed to converge, increase the number of iterations.\n",
      "  ConvergenceWarning,\n"
     ]
    },
    {
     "name": "stdout",
     "output_type": "stream",
     "text": [
      "\n",
      " N-gram (1,2)\n",
      "Naïve Bayes accuracy: 0.835\n",
      "Logistic Regression accuracy: 0.8525\n",
      "SVM accuracy: 0.86\n"
     ]
    },
    {
     "name": "stderr",
     "output_type": "stream",
     "text": [
      "C:\\Anaconda\\lib\\site-packages\\sklearn\\svm\\_base.py:1208: ConvergenceWarning: Liblinear failed to converge, increase the number of iterations.\n",
      "  ConvergenceWarning,\n"
     ]
    },
    {
     "name": "stdout",
     "output_type": "stream",
     "text": [
      "\n",
      " N-gram (1,3)\n",
      "Naïve Bayes accuracy: 0.795\n",
      "Logistic Regression accuracy: 0.8425\n",
      "SVM accuracy: 0.845\n"
     ]
    },
    {
     "name": "stderr",
     "output_type": "stream",
     "text": [
      "C:\\Anaconda\\lib\\site-packages\\sklearn\\svm\\_base.py:1208: ConvergenceWarning: Liblinear failed to converge, increase the number of iterations.\n",
      "  ConvergenceWarning,\n"
     ]
    },
    {
     "name": "stdout",
     "output_type": "stream",
     "text": [
      "\n",
      " Stemming\n",
      "Naïve Bayes accuracy: 0.8175\n",
      "Logistic Regression accuracy: 0.855\n",
      "SVM accuracy: 0.8475\n",
      "\n",
      " Part of speech tagging\n",
      "Naïve Bayes accuracy: 0.8225\n",
      "Logistic Regression accuracy: 0.8225\n",
      "SVM accuracy: 0.7925\n"
     ]
    }
   ],
   "source": [
    "from sklearn.naive_bayes import MultinomialNB\n",
    "from sklearn.linear_model import LogisticRegression\n",
    "from sklearn.svm import LinearSVC\n",
    "from sklearn.metrics import accuracy_score\n",
    "\n",
    "NB_acc_score = []\n",
    "LR_acc_score = []\n",
    "SVM_acc_score = []\n",
    "\n",
    "for index in range(len(prepross_X)):\n",
    "    #TRAIN\n",
    "    pp = preprocessing[index]\n",
    "    X = prepross_X[index]\n",
    "    vectorizer = pp_vectorizer[index]\n",
    "    \n",
    "    #Naïve Bayes\n",
    "    nb_clf = MultinomialNB()\n",
    "    nb_clf.fit(X, train_labs)\n",
    "\n",
    "\n",
    "    #Logistic Regression\n",
    "    lr_clf = LogisticRegression(random_state=0, solver='lbfgs',n_jobs=-1)\n",
    "    lr_clf.fit(X, train_labs)\n",
    "\n",
    "    #Linear SVM\n",
    "    svm_clf = LinearSVC(random_state=0, tol=1e-5)\n",
    "    svm_clf.fit(X, train_labs)\n",
    "\n",
    "    #TEST\n",
    "    true = test_labs #[pol for text,pol in alltxts]\n",
    "    #train_corpus = alltxts #[text for text,pol in alltxts]\n",
    "    X_test = vectorizer.transform(test_texts)\n",
    "\n",
    "    pred_nb = nb_clf.predict(X_test)\n",
    "    pred_lr = lr_clf.predict(X_test)\n",
    "    pred_svm = svm_clf.predict(X_test)\n",
    "\n",
    "    print('\\n', pp)\n",
    "    print(f\"Naïve Bayes accuracy: {accuracy_score(true, pred_nb)}\")\n",
    "    print(f\"Logistic Regression accuracy: {accuracy_score(true, pred_lr)}\")\n",
    "    print(f\"SVM accuracy: {accuracy_score(true, pred_svm)}\")\n",
    "    \n",
    "    NB_acc_score.append(accuracy_score(true, pred_nb))\n",
    "    LR_acc_score.append(accuracy_score(true, pred_lr))\n",
    "    SVM_acc_score.append(accuracy_score(true, pred_svm))\n"
   ]
  },
  {
   "cell_type": "markdown",
   "id": "f21cdba4",
   "metadata": {},
   "source": [
    "### e) Performances"
   ]
  },
  {
   "cell_type": "code",
   "execution_count": 26,
   "id": "30fe07c5",
   "metadata": {
    "scrolled": true
   },
   "outputs": [
    {
     "data": {
      "text/plain": [
       "([0, 1, 2, 3, 4, 5, 6, 7, 8, 9, 10, 11, 12, 13, 14],\n",
       " [Text(0, 0, ''),\n",
       "  Text(0, 0, ''),\n",
       "  Text(0, 0, ''),\n",
       "  Text(0, 0, ''),\n",
       "  Text(0, 0, ''),\n",
       "  Text(0, 0, ''),\n",
       "  Text(0, 0, ''),\n",
       "  Text(0, 0, ''),\n",
       "  Text(0, 0, ''),\n",
       "  Text(0, 0, ''),\n",
       "  Text(0, 0, ''),\n",
       "  Text(0, 0, ''),\n",
       "  Text(0, 0, ''),\n",
       "  Text(0, 0, ''),\n",
       "  Text(0, 0, '')])"
      ]
     },
     "execution_count": 26,
     "metadata": {},
     "output_type": "execute_result"
    },
    {
     "data": {
      "image/png": "[encoded data removed]",
      "text/plain": [
       "<Figure size 640x480 with 1 Axes>"
      ]
     },
     "metadata": {},
     "output_type": "display_data"
    }
   ],
   "source": [
    "#Plots\n",
    "plt.plot(preprocessing, NB_acc_score, label = 'Naïve Bayes')\n",
    "plt.plot(preprocessing, LR_acc_score, label = 'Logistic Regression')\n",
    "plt.plot(preprocessing, SVM_acc_score, label = 'SVM')\n",
    "plt.legend(loc='lower left')\n",
    "plt.xticks(rotation = 90)"
   ]
  },
  {
   "cell_type": "code",
   "execution_count": 27,
   "id": "505c92eb",
   "metadata": {},
   "outputs": [
    {
     "name": "stdout",
     "output_type": "stream",
     "text": [
      "Max NB :  N-gram (1,2)\n",
      "Max LR :  Sans ponctuation\n",
      "Max SVM :  N-gram (1,2)\n"
     ]
    }
   ],
   "source": [
    "#Selection des meilleurs pp et classifiers\n",
    "index_NB = np.argmax(NB_acc_score) #Choisir un autre classifieur ?\n",
    "index_LR = np.argmax(LR_acc_score)\n",
    "index_SVM = np.argmax(SVM_acc_score)\n",
    "print('Max NB : ', preprocessing[index_NB])\n",
    "print('Max LR : ', preprocessing[index_LR])\n",
    "print('Max SVM : ', preprocessing[index_SVM])\n",
    "#index_max = np.argmax()\n",
    "#print('Max preprocessing and classifier : ', max(preprocessing[index_NB], preprocessing[index_LR], preprocessing[index_SVM]))"
   ]
  },
  {
   "cell_type": "markdown",
   "id": "10828e50",
   "metadata": {},
   "source": [
    "#### iv) Combinaison de prétraitements ? Classifieurs et Performances"
   ]
  },
  {
   "cell_type": "code",
   "execution_count": 28,
   "id": "fc837b86",
   "metadata": {},
   "outputs": [],
   "source": [
    "Preprocessings = [('Sans ponctuation', preprocess_p) ,\n",
    "                 ('Sans chiffres', preprocess_c),\n",
    "                 ('Conservation du titre', preprocess_titre),\n",
    "                 ('Conservation du résumé', preprocess_resume), \n",
    "                 ('Stemming', preprocess_stemming),\n",
    "                 ('Part of speech tagging', preprocess_pos)]"
   ]
  },
  {
   "cell_type": "code",
   "execution_count": 29,
   "id": "7e1804d4",
   "metadata": {},
   "outputs": [],
   "source": [
    "def combinaison_pp(preprocessing_functions : list):\n",
    "    \"\"\"\n",
    "    Returns a preprocessing function which combines the preprocessings for a text\n",
    "    Input : (preprocessing_functions) List of preprocessing functions\n",
    "    Output : (inner) function\n",
    "    \"\"\"\n",
    "    def inner(text):\n",
    "        for function in preprocessing_functions:\n",
    "            text = function(text)\n",
    "        return text\n",
    "    return inner"
   ]
  },
  {
   "cell_type": "code",
   "execution_count": 30,
   "id": "2f7ee5c8",
   "metadata": {},
   "outputs": [],
   "source": [
    "from copy import deepcopy\n",
    "\n",
    "X_tot = []\n",
    "Names_tot = []\n",
    "vec_tot = []\n",
    "ticks = []\n",
    "\n",
    "n = len(Preprocessings)\n",
    "p = deepcopy(Preprocessings)\n",
    "for x in range(n):\n",
    "    m = len(p)\n",
    "    for j in range(1,m):\n",
    "        preprocessing_functions = p[:j]\n",
    "        \n",
    "        name_preprocessing = [name for name, function in preprocessing_functions]\n",
    "        function_preprocessing = [function for name, function in preprocessing_functions]\n",
    "        \n",
    "        preprocess = combinaison_pp(function_preprocessing)\n",
    "        \n",
    "        vec_combin = CountVectorizer(preprocessor=preprocess)\n",
    "        X_combin = vec_combin.fit_transform(train_txts)\n",
    "        \n",
    "        X_tot.append(X_combin)\n",
    "        Names_tot.append(name_preprocessing)\n",
    "        vec_tot.append(vec_combin)\n",
    "        ticks.append(' + '.join(name_preprocessing))\n",
    "        \n",
    "    p = p[1:m]"
   ]
  },
  {
   "cell_type": "code",
   "execution_count": 31,
   "id": "c7d1c7a5",
   "metadata": {},
   "outputs": [
    {
     "name": "stdout",
     "output_type": "stream",
     "text": [
      "\n",
      " ['Sans ponctuation']\n",
      "Naïve Bayes accuracy: 0.805\n",
      "Logistic Regression accuracy: 0.855\n",
      "SVM accuracy: 0.84\n"
     ]
    },
    {
     "name": "stderr",
     "output_type": "stream",
     "text": [
      "C:\\Anaconda\\lib\\site-packages\\sklearn\\svm\\_base.py:1208: ConvergenceWarning: Liblinear failed to converge, increase the number of iterations.\n",
      "  ConvergenceWarning,\n"
     ]
    },
    {
     "name": "stdout",
     "output_type": "stream",
     "text": [
      "\n",
      " ['Sans ponctuation', 'Sans chiffres']\n",
      "Naïve Bayes accuracy: 0.8075\n",
      "Logistic Regression accuracy: 0.855\n",
      "SVM accuracy: 0.835\n",
      "\n",
      " ['Sans ponctuation', 'Sans chiffres', 'Conservation du titre']\n",
      "Naïve Bayes accuracy: 0.565\n",
      "Logistic Regression accuracy: 0.5625\n",
      "SVM accuracy: 0.54\n",
      "\n",
      " ['Sans ponctuation', 'Sans chiffres', 'Conservation du titre', 'Conservation du résumé']\n",
      "Naïve Bayes accuracy: 0.565\n",
      "Logistic Regression accuracy: 0.5625\n",
      "SVM accuracy: 0.54\n",
      "\n",
      " ['Sans ponctuation', 'Sans chiffres', 'Conservation du titre', 'Conservation du résumé', 'Stemming']\n",
      "Naïve Bayes accuracy: 0.585\n",
      "Logistic Regression accuracy: 0.6075\n",
      "SVM accuracy: 0.5775\n",
      "\n",
      " ['Sans chiffres']\n",
      "Naïve Bayes accuracy: 0.8075\n",
      "Logistic Regression accuracy: 0.8525\n",
      "SVM accuracy: 0.83\n",
      "\n",
      " ['Sans chiffres', 'Conservation du titre']\n",
      "Naïve Bayes accuracy: 0.565\n",
      "Logistic Regression accuracy: 0.56\n",
      "SVM accuracy: 0.535\n",
      "\n",
      " ['Sans chiffres', 'Conservation du titre', 'Conservation du résumé']\n",
      "Naïve Bayes accuracy: 0.565\n",
      "Logistic Regression accuracy: 0.56\n",
      "SVM accuracy: 0.535\n",
      "\n",
      " ['Sans chiffres', 'Conservation du titre', 'Conservation du résumé', 'Stemming']\n",
      "Naïve Bayes accuracy: 0.59\n",
      "Logistic Regression accuracy: 0.5925\n",
      "SVM accuracy: 0.5725\n",
      "\n",
      " ['Conservation du titre']\n",
      "Naïve Bayes accuracy: 0.57\n",
      "Logistic Regression accuracy: 0.5575\n",
      "SVM accuracy: 0.56\n",
      "\n",
      " ['Conservation du titre', 'Conservation du résumé']\n",
      "Naïve Bayes accuracy: 0.57\n",
      "Logistic Regression accuracy: 0.5575\n",
      "SVM accuracy: 0.56\n",
      "\n",
      " ['Conservation du titre', 'Conservation du résumé', 'Stemming']\n",
      "Naïve Bayes accuracy: 0.595\n",
      "Logistic Regression accuracy: 0.5925\n",
      "SVM accuracy: 0.58\n",
      "\n",
      " ['Conservation du résumé']\n",
      "Naïve Bayes accuracy: 0.63\n",
      "Logistic Regression accuracy: 0.645\n",
      "SVM accuracy: 0.615\n",
      "\n",
      " ['Conservation du résumé', 'Stemming']\n",
      "Naïve Bayes accuracy: 0.6425\n",
      "Logistic Regression accuracy: 0.655\n",
      "SVM accuracy: 0.6325\n"
     ]
    },
    {
     "name": "stderr",
     "output_type": "stream",
     "text": [
      "C:\\Anaconda\\lib\\site-packages\\sklearn\\svm\\_base.py:1208: ConvergenceWarning: Liblinear failed to converge, increase the number of iterations.\n",
      "  ConvergenceWarning,\n"
     ]
    },
    {
     "name": "stdout",
     "output_type": "stream",
     "text": [
      "\n",
      " ['Stemming']\n",
      "Naïve Bayes accuracy: 0.8175\n",
      "Logistic Regression accuracy: 0.855\n",
      "SVM accuracy: 0.8475\n"
     ]
    }
   ],
   "source": [
    "from sklearn.naive_bayes import MultinomialNB\n",
    "from sklearn.linear_model import LogisticRegression\n",
    "from sklearn.svm import LinearSVC\n",
    "from sklearn.metrics import accuracy_score\n",
    "\n",
    "NB_acc_score = []\n",
    "LR_acc_score = []\n",
    "SVM_acc_score = []\n",
    "\n",
    "for index in range(len(X_tot)):\n",
    "    #TRAIN\n",
    "    pp = Names_tot[index]\n",
    "    X = X_tot[index]\n",
    "    vectorizer = vec_tot[index]\n",
    "    \n",
    "    #Naïve Bayes\n",
    "    nb_clf = MultinomialNB()\n",
    "    nb_clf.fit(X, train_labs)\n",
    "\n",
    "\n",
    "    #Logistic Regression\n",
    "    lr_clf = LogisticRegression(random_state=0, solver='lbfgs',n_jobs=-1)\n",
    "    lr_clf.fit(X, train_labs)\n",
    "\n",
    "    #Linear SVM\n",
    "    svm_clf = LinearSVC(random_state=0, tol=1e-5)\n",
    "    svm_clf.fit(X, train_labs)\n",
    "\n",
    "    #TEST\n",
    "    true = test_labs #[pol for text,pol in alltxts]\n",
    "    #train_corpus = alltxts #[text for text,pol in alltxts]\n",
    "    X_test = vectorizer.transform(test_texts)\n",
    "\n",
    "    pred_nb = nb_clf.predict(X_test)\n",
    "    pred_lr = lr_clf.predict(X_test)\n",
    "    pred_svm = svm_clf.predict(X_test)\n",
    "\n",
    "    print('\\n', pp)\n",
    "    print(f\"Naïve Bayes accuracy: {accuracy_score(true, pred_nb)}\")\n",
    "    print(f\"Logistic Regression accuracy: {accuracy_score(true, pred_lr)}\")\n",
    "    print(f\"SVM accuracy: {accuracy_score(true, pred_svm)}\")\n",
    "    \n",
    "    NB_acc_score.append(accuracy_score(true, pred_nb))\n",
    "    LR_acc_score.append(accuracy_score(true, pred_lr))\n",
    "    SVM_acc_score.append(accuracy_score(true, pred_svm))"
   ]
  },
  {
   "cell_type": "code",
   "execution_count": 32,
   "id": "1db8ad1e",
   "metadata": {},
   "outputs": [
    {
     "data": {
      "text/plain": [
       "([0, 1, 2, 3, 4, 5, 6, 7, 8, 9, 10, 11, 12, 13, 14],\n",
       " [Text(0, 0, ''),\n",
       "  Text(0, 0, ''),\n",
       "  Text(0, 0, ''),\n",
       "  Text(0, 0, ''),\n",
       "  Text(0, 0, ''),\n",
       "  Text(0, 0, ''),\n",
       "  Text(0, 0, ''),\n",
       "  Text(0, 0, ''),\n",
       "  Text(0, 0, ''),\n",
       "  Text(0, 0, ''),\n",
       "  Text(0, 0, ''),\n",
       "  Text(0, 0, ''),\n",
       "  Text(0, 0, ''),\n",
       "  Text(0, 0, ''),\n",
       "  Text(0, 0, '')])"
      ]
     },
     "execution_count": 32,
     "metadata": {},
     "output_type": "execute_result"
    },
    {
     "data": {
      "image/png": "[encoded data removed]",
      "text/plain": [
       "<Figure size 640x480 with 1 Axes>"
      ]
     },
     "metadata": {},
     "output_type": "display_data"
    }
   ],
   "source": [
    "#Plots \n",
    "\n",
    "plt.plot(ticks, NB_acc_score, label = 'Naïve Bayes')\n",
    "plt.plot(ticks, LR_acc_score, label = 'Logistic Regression')\n",
    "plt.plot(ticks, SVM_acc_score, label = 'SVM')\n",
    "plt.legend(loc='lower left')\n",
    "plt.xticks(rotation = 90)"
   ]
  },
  {
   "cell_type": "markdown",
   "id": "96a84a28",
   "metadata": {},
   "source": [
    "### f) Save results"
   ]
  },
  {
   "cell_type": "markdown",
   "id": "ed2bc8e9",
   "metadata": {},
   "source": [
    "### g) Compléments Optionnels W2V"
   ]
  },
  {
   "cell_type": "markdown",
   "id": "33499c2a",
   "metadata": {},
   "source": [
    "## 2. classification de locuteur sur des discours de Chirac et Mitterrand"
   ]
  },
  {
   "cell_type": "markdown",
   "id": "1ad2dcd1",
   "metadata": {},
   "source": [
    "**Analyses obligatoires**\n",
    "- Comparer les performances avec différents pré-traitements\n",
    "    - e.g Taille de vocabulaire, unigram/bigram, Stemming, ...\n",
    "- Implémenter un post-traitement sur les données Chirac/mittérrand\n",
    "- Appliquer les traitements optimaux sur les données de test et sauver les résultats dans un fichier txt\n",
    "\n",
    "**Compléments optionnels**\n",
    "- Analyser les performances avec Word2Vec, en utilisant des stratégies d'agrégation naïves\n"
   ]
  },
  {
   "cell_type": "code",
   "execution_count": null,
   "id": "d0761e8e",
   "metadata": {},
   "outputs": [],
   "source": []
  }
 ],
 "metadata": {
  "kernelspec": {
   "display_name": "Python 3 (ipykernel)",
   "language": "python",
   "name": "python3"
  },
  "language_info": {
   "codemirror_mode": {
    "name": "ipython",
    "version": 3
   },
   "file_extension": ".py",
   "mimetype": "text/x-python",
   "name": "python",
   "nbconvert_exporter": "python",
   "pygments_lexer": "ipython3",
   "version": "3.7.4"
  }
 },
 "nbformat": 4,
 "nbformat_minor": 5
}
